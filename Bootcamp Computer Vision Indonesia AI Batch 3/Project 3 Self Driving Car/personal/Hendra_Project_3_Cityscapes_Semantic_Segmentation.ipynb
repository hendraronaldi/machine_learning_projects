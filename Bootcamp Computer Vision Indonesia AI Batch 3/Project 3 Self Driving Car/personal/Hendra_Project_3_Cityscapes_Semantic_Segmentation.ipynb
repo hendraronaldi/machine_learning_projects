{
  "nbformat": 4,
  "nbformat_minor": 0,
  "metadata": {
    "colab": {
      "provenance": [],
      "gpuType": "T4",
      "toc_visible": true
    },
    "kernelspec": {
      "name": "python3",
      "display_name": "Python 3"
    },
    "language_info": {
      "name": "python"
    },
    "accelerator": "GPU"
  },
  "cells": [
    {
      "cell_type": "markdown",
      "source": [
        "The Cityscapes Dataset focuses on semantic understanding of urban street scenes. In the provided dataset from bootcamp it contains 12 classes without label names"
      ],
      "metadata": {
        "id": "6o4pcXmFiIYj"
      }
    },
    {
      "cell_type": "markdown",
      "source": [
        "# Import Libraries"
      ],
      "metadata": {
        "id": "UX9jrRhqhZOX"
      }
    },
    {
      "cell_type": "code",
      "source": [
        "!pip install -U segmentation-models"
      ],
      "metadata": {
        "id": "84xmVPPTL1S2",
        "colab": {
          "base_uri": "https://localhost:8080/"
        },
        "outputId": "049b345e-971f-4b0a-9bf7-d21f225880b4"
      },
      "execution_count": 1,
      "outputs": [
        {
          "output_type": "stream",
          "name": "stdout",
          "text": [
            "Collecting segmentation-models\n",
            "  Downloading segmentation_models-1.0.1-py3-none-any.whl (33 kB)\n",
            "Collecting keras-applications<=1.0.8,>=1.0.7 (from segmentation-models)\n",
            "  Downloading Keras_Applications-1.0.8-py3-none-any.whl (50 kB)\n",
            "\u001b[2K     \u001b[90m━━━━━━━━━━━━━━━━━━━━━━━━━━━━━━━━━━━━━━━━\u001b[0m \u001b[32m50.7/50.7 kB\u001b[0m \u001b[31m1.8 MB/s\u001b[0m eta \u001b[36m0:00:00\u001b[0m\n",
            "\u001b[?25hCollecting image-classifiers==1.0.0 (from segmentation-models)\n",
            "  Downloading image_classifiers-1.0.0-py3-none-any.whl (19 kB)\n",
            "Collecting efficientnet==1.0.0 (from segmentation-models)\n",
            "  Downloading efficientnet-1.0.0-py3-none-any.whl (17 kB)\n",
            "Requirement already satisfied: scikit-image in /usr/local/lib/python3.10/dist-packages (from efficientnet==1.0.0->segmentation-models) (0.19.3)\n",
            "Requirement already satisfied: numpy>=1.9.1 in /usr/local/lib/python3.10/dist-packages (from keras-applications<=1.0.8,>=1.0.7->segmentation-models) (1.23.5)\n",
            "Requirement already satisfied: h5py in /usr/local/lib/python3.10/dist-packages (from keras-applications<=1.0.8,>=1.0.7->segmentation-models) (3.9.0)\n",
            "Requirement already satisfied: scipy>=1.4.1 in /usr/local/lib/python3.10/dist-packages (from scikit-image->efficientnet==1.0.0->segmentation-models) (1.11.4)\n",
            "Requirement already satisfied: networkx>=2.2 in /usr/local/lib/python3.10/dist-packages (from scikit-image->efficientnet==1.0.0->segmentation-models) (3.2.1)\n",
            "Requirement already satisfied: pillow!=7.1.0,!=7.1.1,!=8.3.0,>=6.1.0 in /usr/local/lib/python3.10/dist-packages (from scikit-image->efficientnet==1.0.0->segmentation-models) (9.4.0)\n",
            "Requirement already satisfied: imageio>=2.4.1 in /usr/local/lib/python3.10/dist-packages (from scikit-image->efficientnet==1.0.0->segmentation-models) (2.31.6)\n",
            "Requirement already satisfied: tifffile>=2019.7.26 in /usr/local/lib/python3.10/dist-packages (from scikit-image->efficientnet==1.0.0->segmentation-models) (2023.12.9)\n",
            "Requirement already satisfied: PyWavelets>=1.1.1 in /usr/local/lib/python3.10/dist-packages (from scikit-image->efficientnet==1.0.0->segmentation-models) (1.5.0)\n",
            "Requirement already satisfied: packaging>=20.0 in /usr/local/lib/python3.10/dist-packages (from scikit-image->efficientnet==1.0.0->segmentation-models) (23.2)\n",
            "Installing collected packages: keras-applications, image-classifiers, efficientnet, segmentation-models\n",
            "Successfully installed efficientnet-1.0.0 image-classifiers-1.0.0 keras-applications-1.0.8 segmentation-models-1.0.1\n"
          ]
        }
      ]
    },
    {
      "cell_type": "code",
      "source": [
        "import os\n",
        "os.environ[\"SM_FRAMEWORK\"] = \"tf.keras\""
      ],
      "metadata": {
        "id": "Dl0El9nQmZYP"
      },
      "execution_count": 2,
      "outputs": []
    },
    {
      "cell_type": "code",
      "source": [
        "import numpy as np\n",
        "import matplotlib.pyplot as plt\n",
        "from PIL import Image"
      ],
      "metadata": {
        "id": "wFbCXXdWhYhX"
      },
      "execution_count": 3,
      "outputs": []
    },
    {
      "cell_type": "markdown",
      "source": [
        "# Drive Setup"
      ],
      "metadata": {
        "id": "5MPQuNvIQ-NW"
      }
    },
    {
      "cell_type": "code",
      "source": [
        "from google.colab import drive\n",
        "drive.mount('/content/drive')"
      ],
      "metadata": {
        "colab": {
          "base_uri": "https://localhost:8080/"
        },
        "id": "LsrV9CTLI0x2",
        "outputId": "513d0ad8-42d7-4145-a5e9-dbdc2371b329"
      },
      "execution_count": 4,
      "outputs": [
        {
          "output_type": "stream",
          "name": "stdout",
          "text": [
            "Mounted at /content/drive\n"
          ]
        }
      ]
    },
    {
      "cell_type": "markdown",
      "source": [
        "# Dataset Preparation"
      ],
      "metadata": {
        "id": "EiO9WeB7h-Y7"
      }
    },
    {
      "cell_type": "code",
      "source": [
        "import shutil"
      ],
      "metadata": {
        "id": "iCJ6HjHSSajm"
      },
      "execution_count": 5,
      "outputs": []
    },
    {
      "cell_type": "code",
      "source": [
        "drive_dataset_path = '/content/drive/MyDrive/cv_bootcamp_indonesiaai/project_3/dataset'\n",
        "drive_model_path = '/content/drive/MyDrive/cv_bootcamp_indonesiaai/project_3/models'"
      ],
      "metadata": {
        "id": "CrhZXZGEI1PW"
      },
      "execution_count": 6,
      "outputs": []
    },
    {
      "cell_type": "code",
      "source": [
        "destination_folder = '/content/cityscapes'"
      ],
      "metadata": {
        "id": "RdVtMG8ep3X3"
      },
      "execution_count": 7,
      "outputs": []
    },
    {
      "cell_type": "code",
      "source": [
        "shutil.copytree(drive_dataset_path, destination_folder)"
      ],
      "metadata": {
        "colab": {
          "base_uri": "https://localhost:8080/",
          "height": 35
        },
        "id": "2K5hvLiCScLu",
        "outputId": "b63585d8-b124-403d-dc73-a44db3c3e71c"
      },
      "execution_count": 8,
      "outputs": [
        {
          "output_type": "execute_result",
          "data": {
            "text/plain": [
              "'/content/cityscapes'"
            ],
            "application/vnd.google.colaboratory.intrinsic+json": {
              "type": "string"
            }
          },
          "metadata": {},
          "execution_count": 8
        }
      ]
    },
    {
      "cell_type": "code",
      "source": [
        "model_dest_folder = '/content/models'"
      ],
      "metadata": {
        "id": "HJ-4EUFIp4IQ"
      },
      "execution_count": 9,
      "outputs": []
    },
    {
      "cell_type": "code",
      "source": [
        "shutil.copytree(drive_model_path, model_dest_folder)"
      ],
      "metadata": {
        "colab": {
          "base_uri": "https://localhost:8080/",
          "height": 35
        },
        "id": "MRoD7kauvkO0",
        "outputId": "2e5d044f-f627-4449-d3da-93a6c62510dc"
      },
      "execution_count": 10,
      "outputs": [
        {
          "output_type": "execute_result",
          "data": {
            "text/plain": [
              "'/content/models'"
            ],
            "application/vnd.google.colaboratory.intrinsic+json": {
              "type": "string"
            }
          },
          "metadata": {},
          "execution_count": 10
        }
      ]
    },
    {
      "cell_type": "code",
      "source": [
        "# drive.flush_and_unmount()"
      ],
      "metadata": {
        "id": "ySV0qgfBZIt3"
      },
      "execution_count": 11,
      "outputs": []
    },
    {
      "cell_type": "code",
      "source": [
        "train_img_path = os.path.join(destination_folder, 'images_train', 'images_prepped_train')\n",
        "train_annot_path = os.path.join(destination_folder, 'annotations_train', 'annotations_prepped_train')\n",
        "\n",
        "test_img_path = os.path.join(destination_folder, 'images_test', 'images_prepped_test')\n",
        "test_annot_path = os.path.join(destination_folder, 'annotations_test', 'annotations_prepped_test')"
      ],
      "metadata": {
        "id": "XI0hm59Kg66s"
      },
      "execution_count": 12,
      "outputs": []
    },
    {
      "cell_type": "code",
      "source": [
        "print(f'total train images: {len(os.listdir(train_img_path))}')\n",
        "print(f'total train annots: {len(os.listdir(train_annot_path))}')\n",
        "print(f'total test images: {len(os.listdir(test_img_path))}')\n",
        "print(f'total test annots: {len(os.listdir(test_annot_path))}')"
      ],
      "metadata": {
        "colab": {
          "base_uri": "https://localhost:8080/"
        },
        "id": "Yu_xJ9hEUGQ-",
        "outputId": "57651df4-8fc3-49b6-94b8-3854ce1802c5"
      },
      "execution_count": 13,
      "outputs": [
        {
          "output_type": "stream",
          "name": "stdout",
          "text": [
            "total train images: 367\n",
            "total train annots: 367\n",
            "total test images: 101\n",
            "total test annots: 101\n"
          ]
        }
      ]
    },
    {
      "cell_type": "markdown",
      "source": [
        "The total number of train images bigger than total number of train annotations which means there are some train images that doesn't have annotations"
      ],
      "metadata": {
        "id": "C4E4V5jrVHoA"
      }
    },
    {
      "cell_type": "code",
      "source": [
        "def get_classes_annotations(annotation_folder):\n",
        "    # Initialize a dictionary to store the counts for each class\n",
        "    class_counts = {}\n",
        "\n",
        "    # Iterate through each file in the folder\n",
        "    for filename in os.listdir(annotation_folder):\n",
        "        if filename.endswith('.png'):  # Assuming images are in PNG format, adjust as needed\n",
        "            # Load the annotation image\n",
        "            annotation_path = os.path.join(annotation_folder, filename)\n",
        "            annotation_image = Image.open(annotation_path)\n",
        "\n",
        "            # Convert the image to a NumPy array\n",
        "            annotation_array = np.array(annotation_image)\n",
        "\n",
        "            # Count occurrences of each unique class value\n",
        "            unique_classes, counts = np.unique(annotation_array, return_counts=True)\n",
        "\n",
        "            # Update the class_counts dictionary\n",
        "            for class_value, count in zip(unique_classes, counts):\n",
        "                if class_value not in class_counts:\n",
        "                    class_counts[class_value] = 0\n",
        "                class_counts[class_value] += count\n",
        "\n",
        "    # Print the class counts\n",
        "    for class_value, count in class_counts.items():\n",
        "        print(f\"Class {class_value}: {count} pixels\")\n",
        "\n",
        "    # Print the number of unique classes and the unique class values\n",
        "    number_of_classes = len(class_counts)\n",
        "    unique_classes_values = sorted(list(class_counts.keys()))\n",
        "\n",
        "    print(\"\\nNumber of Unique Classes:\", number_of_classes)\n",
        "    print(\"Unique Class Values:\", unique_classes_values)"
      ],
      "metadata": {
        "id": "I1qTtQH-k07g"
      },
      "execution_count": 14,
      "outputs": []
    },
    {
      "cell_type": "code",
      "source": [
        "get_classes_annotations(train_annot_path)"
      ],
      "metadata": {
        "colab": {
          "base_uri": "https://localhost:8080/"
        },
        "id": "ioJ9cl8tXcsh",
        "outputId": "aa34c2df-039f-49d5-8145-963dafca25af"
      },
      "execution_count": 15,
      "outputs": [
        {
          "output_type": "stream",
          "name": "stdout",
          "text": [
            "Class 0: 10682767 pixels\n",
            "Class 1: 14750079 pixels\n",
            "Class 2: 623349 pixels\n",
            "Class 3: 20076880 pixels\n",
            "Class 4: 2845085 pixels\n",
            "Class 5: 6166762 pixels\n",
            "Class 6: 743859 pixels\n",
            "Class 8: 3719877 pixels\n",
            "Class 9: 405385 pixels\n",
            "Class 11: 2503995 pixels\n",
            "Class 10: 184967 pixels\n",
            "Class 7: 714595 pixels\n",
            "\n",
            "Number of Unique Classes: 12\n",
            "Unique Class Values: [0, 1, 2, 3, 4, 5, 6, 7, 8, 9, 10, 11]\n"
          ]
        }
      ]
    },
    {
      "cell_type": "code",
      "source": [
        "get_classes_annotations(test_annot_path)"
      ],
      "metadata": {
        "colab": {
          "base_uri": "https://localhost:8080/"
        },
        "id": "QWCrewaR7Eew",
        "outputId": "014c419e-3f64-4b33-cf1c-fa6cb8a7906e"
      },
      "execution_count": 16,
      "outputs": [
        {
          "output_type": "stream",
          "name": "stdout",
          "text": [
            "Class 0: 1601620 pixels\n",
            "Class 1: 4531180 pixels\n",
            "Class 2: 98499 pixels\n",
            "Class 3: 5053176 pixels\n",
            "Class 4: 1521751 pixels\n",
            "Class 5: 2851125 pixels\n",
            "Class 6: 155724 pixels\n",
            "Class 7: 537197 pixels\n",
            "Class 8: 304716 pixels\n",
            "Class 9: 113531 pixels\n",
            "Class 10: 387010 pixels\n",
            "Class 11: 297271 pixels\n",
            "\n",
            "Number of Unique Classes: 12\n",
            "Unique Class Values: [0, 1, 2, 3, 4, 5, 6, 7, 8, 9, 10, 11]\n"
          ]
        }
      ]
    },
    {
      "cell_type": "markdown",
      "source": [
        "There are imbalanced classes"
      ],
      "metadata": {
        "id": "ZY326QI38kbM"
      }
    },
    {
      "cell_type": "markdown",
      "source": [
        "## Data Cleaning"
      ],
      "metadata": {
        "id": "Ebx4qgRlTNoX"
      }
    },
    {
      "cell_type": "markdown",
      "source": [
        "Let's take a look of train images with no annotations"
      ],
      "metadata": {
        "id": "apkcEd23VxHn"
      }
    },
    {
      "cell_type": "code",
      "source": [
        "def get_image_no_annot(imgs_path, annots_path):\n",
        "    paths = []\n",
        "    for img_path in os.listdir(imgs_path):\n",
        "        if img_path not in os.listdir(annots_path):\n",
        "            paths.append(img_path)\n",
        "    return paths"
      ],
      "metadata": {
        "id": "s0qKee7EVkdn"
      },
      "execution_count": 17,
      "outputs": []
    },
    {
      "cell_type": "code",
      "source": [
        "no_annot_imgs = get_image_no_annot(train_img_path, train_annot_path)"
      ],
      "metadata": {
        "id": "DC-AXoh6Vnl3"
      },
      "execution_count": 18,
      "outputs": []
    },
    {
      "cell_type": "code",
      "source": [
        "print(no_annot_imgs)"
      ],
      "metadata": {
        "colab": {
          "base_uri": "https://localhost:8080/"
        },
        "id": "HF4UX8c7WCU_",
        "outputId": "6a929ced-4e49-4332-acdc-4cb6e8357954"
      },
      "execution_count": 19,
      "outputs": [
        {
          "output_type": "stream",
          "name": "stdout",
          "text": [
            "[]\n"
          ]
        }
      ]
    },
    {
      "cell_type": "markdown",
      "source": [
        "Seems the train images contains duplicate data"
      ],
      "metadata": {
        "id": "Ca-ju4pdVwC_"
      }
    },
    {
      "cell_type": "markdown",
      "source": [
        "### Remove Duplicates"
      ],
      "metadata": {
        "id": "GsqEVfVrXM0n"
      }
    },
    {
      "cell_type": "markdown",
      "source": [
        "Remove duplicate images with no annotations"
      ],
      "metadata": {
        "id": "nvKKhJI6TVsv"
      }
    },
    {
      "cell_type": "code",
      "source": [
        "def remove_image_no_annot(imgs_path, no_annot_imgs):\n",
        "    for img in no_annot_imgs:\n",
        "        file_path = os.path.join(imgs_path, img)\n",
        "        if os.path.exists(file_path):\n",
        "            os.remove(file_path)\n",
        "            print(f\"File at {file_path} has been removed.\")\n",
        "        else:\n",
        "            print(f\"File at {file_path} does not exist.\")"
      ],
      "metadata": {
        "id": "P7sRNWq-TVdP"
      },
      "execution_count": 20,
      "outputs": []
    },
    {
      "cell_type": "code",
      "source": [
        "remove_image_no_annot(train_img_path, no_annot_imgs)"
      ],
      "metadata": {
        "id": "fOKZdWx1T30H"
      },
      "execution_count": 21,
      "outputs": []
    },
    {
      "cell_type": "code",
      "source": [
        "print(f'total train images: {len(os.listdir(train_img_path))}')\n",
        "print(f'total train annots: {len(os.listdir(train_annot_path))}')\n",
        "print(f'total test images: {len(os.listdir(test_img_path))}')\n",
        "print(f'total test annots: {len(os.listdir(test_annot_path))}')"
      ],
      "metadata": {
        "id": "Zbz0q3S8W5Cu",
        "colab": {
          "base_uri": "https://localhost:8080/"
        },
        "outputId": "2086b120-aab9-49cf-d9ba-8f3328978db4"
      },
      "execution_count": 22,
      "outputs": [
        {
          "output_type": "stream",
          "name": "stdout",
          "text": [
            "total train images: 367\n",
            "total train annots: 367\n",
            "total test images: 101\n",
            "total test annots: 101\n"
          ]
        }
      ]
    },
    {
      "cell_type": "markdown",
      "source": [
        "## Load Data"
      ],
      "metadata": {
        "id": "GSeKKrUynNQ4"
      }
    },
    {
      "cell_type": "code",
      "source": [
        "#Resizing images, if needed\n",
        "SIZE_X = 256\n",
        "SIZE_Y = 256\n",
        "n_classes=12 #Number of classes for segmentation"
      ],
      "metadata": {
        "id": "-2BVxhaHnOVn"
      },
      "execution_count": 23,
      "outputs": []
    },
    {
      "cell_type": "markdown",
      "source": [
        "### Direct Load"
      ],
      "metadata": {
        "id": "oW49wrUPasr-"
      }
    },
    {
      "cell_type": "code",
      "source": [
        "import cv2\n",
        "import glob"
      ],
      "metadata": {
        "id": "TfGRNpwgn3lP"
      },
      "execution_count": 24,
      "outputs": []
    },
    {
      "cell_type": "code",
      "source": [
        "def get_images(img_paths):\n",
        "    #Capture training image info as a list\n",
        "    images = []\n",
        "\n",
        "    for directory_path in glob.glob(img_paths):\n",
        "        for img_path in glob.glob(os.path.join(directory_path, \"*.png\")):\n",
        "            img = cv2.imread(img_path, 1)\n",
        "            img = cv2.resize(img, (SIZE_Y, SIZE_X))\n",
        "            images.append(img)\n",
        "\n",
        "    #Convert list to array for machine learning processing\n",
        "    images = np.array(images) * 1./255\n",
        "    return images"
      ],
      "metadata": {
        "id": "txZJ1jVynyxO"
      },
      "execution_count": 25,
      "outputs": []
    },
    {
      "cell_type": "code",
      "source": [
        "def get_annots(img_paths):\n",
        "    #Capture training image info as a list\n",
        "    images = []\n",
        "\n",
        "    for directory_path in glob.glob(img_paths):\n",
        "        for img_path in glob.glob(os.path.join(directory_path, \"*.png\")):\n",
        "            img = cv2.imread(img_path, 0)\n",
        "            img = cv2.resize(img, (SIZE_Y, SIZE_X), interpolation = cv2.INTER_NEAREST)  #Otherwise ground truth changes due to interpolation\n",
        "            images.append(img)\n",
        "\n",
        "    #Convert list to array for machine learning processing\n",
        "    images = np.array(images)\n",
        "    return images"
      ],
      "metadata": {
        "id": "Eq55A6uSobdP"
      },
      "execution_count": 26,
      "outputs": []
    },
    {
      "cell_type": "code",
      "source": [
        "train_images = get_images(train_img_path)\n",
        "train_annots = get_annots(train_annot_path)"
      ],
      "metadata": {
        "id": "VBiIrNPloj6n"
      },
      "execution_count": 27,
      "outputs": []
    },
    {
      "cell_type": "code",
      "source": [
        "print(f'train_images: {train_images.shape}')\n",
        "print(f'train_annots: {train_annots.shape}')"
      ],
      "metadata": {
        "colab": {
          "base_uri": "https://localhost:8080/"
        },
        "id": "gC1Yp76Goysf",
        "outputId": "30a96f45-9732-4ea2-8859-cae3f768f713"
      },
      "execution_count": 28,
      "outputs": [
        {
          "output_type": "stream",
          "name": "stdout",
          "text": [
            "train_images: (367, 256, 256, 3)\n",
            "train_annots: (367, 256, 256)\n"
          ]
        }
      ]
    },
    {
      "cell_type": "code",
      "source": [
        "test_images = get_images(test_img_path)\n",
        "test_annots = get_annots(test_annot_path)"
      ],
      "metadata": {
        "id": "JdB_XCHBotsP"
      },
      "execution_count": 29,
      "outputs": []
    },
    {
      "cell_type": "code",
      "source": [
        "print(f'test_images: {test_images.shape}')\n",
        "print(f'test_annots: {test_annots.shape}')"
      ],
      "metadata": {
        "colab": {
          "base_uri": "https://localhost:8080/"
        },
        "id": "XaNUyI4Eo9SI",
        "outputId": "5afa4deb-29b2-482e-ba04-183ea01d2c5c"
      },
      "execution_count": 30,
      "outputs": [
        {
          "output_type": "stream",
          "name": "stdout",
          "text": [
            "test_images: (101, 256, 256, 3)\n",
            "test_annots: (101, 256, 256)\n"
          ]
        }
      ]
    },
    {
      "cell_type": "markdown",
      "source": [
        "### One Hot Encoding"
      ],
      "metadata": {
        "id": "XY7BM-fA9JpE"
      }
    },
    {
      "cell_type": "code",
      "source": [
        "from keras.utils import to_categorical"
      ],
      "metadata": {
        "id": "oZQhKcvEpOyn"
      },
      "execution_count": 31,
      "outputs": []
    },
    {
      "cell_type": "code",
      "source": [
        "def get_categorical_annots(annots):\n",
        "    masks_input = np.expand_dims(annots, axis=3)\n",
        "    masks_cat = to_categorical(masks_input, num_classes=n_classes)\n",
        "    y_cat = masks_cat.reshape((masks_input.shape[0], masks_input.shape[1], masks_input.shape[2], n_classes))\n",
        "    return y_cat"
      ],
      "metadata": {
        "id": "6E4h3o0Vrs33"
      },
      "execution_count": 32,
      "outputs": []
    },
    {
      "cell_type": "code",
      "source": [
        "y_train_cat = get_categorical_annots(train_annots)\n",
        "y_test_cat = get_categorical_annots(test_annots)"
      ],
      "metadata": {
        "id": "7QAX1s6_r_Wv"
      },
      "execution_count": 33,
      "outputs": []
    },
    {
      "cell_type": "markdown",
      "source": [
        "### Class Weights"
      ],
      "metadata": {
        "id": "d0MykcBoaxMn"
      }
    },
    {
      "cell_type": "code",
      "source": [
        "from sklearn.utils import class_weight"
      ],
      "metadata": {
        "id": "krtKJlgmtXAA"
      },
      "execution_count": 34,
      "outputs": []
    },
    {
      "cell_type": "code",
      "source": [
        "encoded_target = train_annots.flatten()"
      ],
      "metadata": {
        "id": "gtCGgBQqtzHP"
      },
      "execution_count": 35,
      "outputs": []
    },
    {
      "cell_type": "code",
      "source": [
        "class_weights = class_weight.compute_class_weight(class_weight='balanced',\n",
        "                                                  classes=[0,1,2,3,4,5,6,7,8,9,10,11],\n",
        "                                                  y=encoded_target)"
      ],
      "metadata": {
        "id": "uf3TbqAXsXve"
      },
      "execution_count": 36,
      "outputs": []
    },
    {
      "cell_type": "code",
      "source": [
        "class_weights"
      ],
      "metadata": {
        "colab": {
          "base_uri": "https://localhost:8080/"
        },
        "id": "vbchau2gsYOe",
        "outputId": "f956dc12-f698-4932-fa9a-35c6a1280f76"
      },
      "execution_count": 37,
      "outputs": [
        {
          "output_type": "execute_result",
          "data": {
            "text/plain": [
              "array([ 0.49103854,  0.35784426,  8.39919932,  0.26478814,  1.85447001,\n",
              "        0.85473691,  7.09864436,  7.38880471,  1.41907148, 13.04489729,\n",
              "       28.49985544,  2.1209241 ])"
            ]
          },
          "metadata": {},
          "execution_count": 37
        }
      ]
    },
    {
      "cell_type": "markdown",
      "source": [
        "If needed, manually defined because already run before to reduce RAM usage"
      ],
      "metadata": {
        "id": "LMVibnXUUzhd"
      }
    },
    {
      "cell_type": "code",
      "source": [
        "# class_weights = np.array([ 0.49337632,  0.35815776,  8.44163312,  0.26382973,  1.85541732,\n",
        "#         0.85605058,  7.1049925 ,  7.39363466,  1.41975514, 13.02422326,\n",
        "#        28.5191601 ,  2.11419231])\n",
        "# class_weights"
      ],
      "metadata": {
        "colab": {
          "base_uri": "https://localhost:8080/"
        },
        "id": "KF_fgS8wUvV9",
        "outputId": "8e87f183-d4b8-4441-d289-affc761c7cf9"
      },
      "execution_count": null,
      "outputs": [
        {
          "output_type": "execute_result",
          "data": {
            "text/plain": [
              "array([ 0.49337632,  0.35815776,  8.44163312,  0.26382973,  1.85541732,\n",
              "        0.85605058,  7.1049925 ,  7.39363466,  1.41975514, 13.02422326,\n",
              "       28.5191601 ,  2.11419231])"
            ]
          },
          "metadata": {},
          "execution_count": 41
        }
      ]
    },
    {
      "cell_type": "markdown",
      "source": [
        "# Model"
      ],
      "metadata": {
        "id": "ZhHczrjWjg_7"
      }
    },
    {
      "cell_type": "code",
      "source": [
        "import tensorflow as tf\n",
        "import segmentation_models as sm\n",
        "import keras.backend as K\n",
        "from keras.callbacks import Callback\n",
        "from keras.callbacks import ModelCheckpoint, EarlyStopping\n",
        "from keras.optimizers import Adam"
      ],
      "metadata": {
        "colab": {
          "base_uri": "https://localhost:8080/"
        },
        "id": "o8HHo_4SvmIJ",
        "outputId": "022caea4-5bbb-49ea-cc1b-9059006006ca"
      },
      "execution_count": 38,
      "outputs": [
        {
          "output_type": "stream",
          "name": "stdout",
          "text": [
            "Segmentation Models: using `tf.keras` framework.\n"
          ]
        }
      ]
    },
    {
      "cell_type": "code",
      "source": [
        "activation='softmax'\n",
        "\n",
        "LR = 0.0001\n",
        "optim = Adam(LR)\n",
        "\n",
        "dice_loss = sm.losses.DiceLoss()\n",
        "# focal_loss = sm.losses.CategoricalFocalLoss()\n",
        "# total_loss = dice_loss + (1 * focal_loss)\n",
        "\n",
        "metrics = [sm.metrics.IOUScore(threshold=0.5), sm.metrics.FScore(threshold=0.5)]"
      ],
      "metadata": {
        "id": "jaB9FxiDms5R"
      },
      "execution_count": 39,
      "outputs": []
    },
    {
      "cell_type": "code",
      "source": [
        "default_callback = ModelCheckpoint(\n",
        "                filepath=os.path.join(drive_model_path, 'resnet50_unet_segmentation'),\n",
        "                # save_weights_only=True,\n",
        "                save_best_only=True,\n",
        "                verbose=True\n",
        "            )\n",
        "\n",
        "callbacks = [default_callback, EarlyStopping(monitor='val_loss', patience=10)]"
      ],
      "metadata": {
        "id": "dYxWtH1xvsAm"
      },
      "execution_count": 40,
      "outputs": []
    },
    {
      "cell_type": "code",
      "source": [
        "def get_preprocessed_img(X_train, X_test, backbone='resnet50'):\n",
        "    preprocess_input1 = sm.get_preprocessing(backbone)\n",
        "\n",
        "    # preprocess input\n",
        "    X_train = preprocess_input1(X_train)\n",
        "    X_test = preprocess_input1(X_test)\n",
        "\n",
        "    return X_train, X_test"
      ],
      "metadata": {
        "id": "9b6JeK9BrzN1"
      },
      "execution_count": 41,
      "outputs": []
    },
    {
      "cell_type": "code",
      "source": [
        "X_train, X_test = get_preprocessed_img(train_images, test_images)"
      ],
      "metadata": {
        "id": "LS7FcAhrr8mc"
      },
      "execution_count": 42,
      "outputs": []
    },
    {
      "cell_type": "code",
      "source": [
        "def create_model(backbone='resnet50'):\n",
        "    # define model\n",
        "    model = sm.Unet(backbone, encoder_weights='imagenet', classes=n_classes, activation=activation)\n",
        "\n",
        "    # compile keras model with defined optimozer, loss and metrics\n",
        "    model.compile(optim, dice_loss, metrics=metrics)\n",
        "\n",
        "    print(model.summary())\n",
        "\n",
        "    return model"
      ],
      "metadata": {
        "id": "XG3HzhWhv9pX"
      },
      "execution_count": 43,
      "outputs": []
    },
    {
      "cell_type": "code",
      "source": [
        "unet_resnet50 = create_model()"
      ],
      "metadata": {
        "colab": {
          "base_uri": "https://localhost:8080/"
        },
        "id": "HkMMHCPWwj63",
        "outputId": "2b51bee9-f7e1-4d79-e907-788540029b11"
      },
      "execution_count": null,
      "outputs": [
        {
          "output_type": "stream",
          "name": "stdout",
          "text": [
            "Downloading data from https://github.com/qubvel/classification_models/releases/download/0.0.1/resnet50_imagenet_1000_no_top.h5\n",
            "94592056/94592056 [==============================] - 0s 0us/step\n",
            "Model: \"model_1\"\n",
            "__________________________________________________________________________________________________\n",
            " Layer (type)                Output Shape                 Param #   Connected to                  \n",
            "==================================================================================================\n",
            " data (InputLayer)           [(None, None, None, 3)]      0         []                            \n",
            "                                                                                                  \n",
            " bn_data (BatchNormalizatio  (None, None, None, 3)        9         ['data[0][0]']                \n",
            " n)                                                                                               \n",
            "                                                                                                  \n",
            " zero_padding2d (ZeroPaddin  (None, None, None, 3)        0         ['bn_data[0][0]']             \n",
            " g2D)                                                                                             \n",
            "                                                                                                  \n",
            " conv0 (Conv2D)              (None, None, None, 64)       9408      ['zero_padding2d[0][0]']      \n",
            "                                                                                                  \n",
            " bn0 (BatchNormalization)    (None, None, None, 64)       256       ['conv0[0][0]']               \n",
            "                                                                                                  \n",
            " relu0 (Activation)          (None, None, None, 64)       0         ['bn0[0][0]']                 \n",
            "                                                                                                  \n",
            " zero_padding2d_1 (ZeroPadd  (None, None, None, 64)       0         ['relu0[0][0]']               \n",
            " ing2D)                                                                                           \n",
            "                                                                                                  \n",
            " pooling0 (MaxPooling2D)     (None, None, None, 64)       0         ['zero_padding2d_1[0][0]']    \n",
            "                                                                                                  \n",
            " stage1_unit1_bn1 (BatchNor  (None, None, None, 64)       256       ['pooling0[0][0]']            \n",
            " malization)                                                                                      \n",
            "                                                                                                  \n",
            " stage1_unit1_relu1 (Activa  (None, None, None, 64)       0         ['stage1_unit1_bn1[0][0]']    \n",
            " tion)                                                                                            \n",
            "                                                                                                  \n",
            " stage1_unit1_conv1 (Conv2D  (None, None, None, 64)       4096      ['stage1_unit1_relu1[0][0]']  \n",
            " )                                                                                                \n",
            "                                                                                                  \n",
            " stage1_unit1_bn2 (BatchNor  (None, None, None, 64)       256       ['stage1_unit1_conv1[0][0]']  \n",
            " malization)                                                                                      \n",
            "                                                                                                  \n",
            " stage1_unit1_relu2 (Activa  (None, None, None, 64)       0         ['stage1_unit1_bn2[0][0]']    \n",
            " tion)                                                                                            \n",
            "                                                                                                  \n",
            " zero_padding2d_2 (ZeroPadd  (None, None, None, 64)       0         ['stage1_unit1_relu2[0][0]']  \n",
            " ing2D)                                                                                           \n",
            "                                                                                                  \n",
            " stage1_unit1_conv2 (Conv2D  (None, None, None, 64)       36864     ['zero_padding2d_2[0][0]']    \n",
            " )                                                                                                \n",
            "                                                                                                  \n",
            " stage1_unit1_bn3 (BatchNor  (None, None, None, 64)       256       ['stage1_unit1_conv2[0][0]']  \n",
            " malization)                                                                                      \n",
            "                                                                                                  \n",
            " stage1_unit1_relu3 (Activa  (None, None, None, 64)       0         ['stage1_unit1_bn3[0][0]']    \n",
            " tion)                                                                                            \n",
            "                                                                                                  \n",
            " stage1_unit1_conv3 (Conv2D  (None, None, None, 256)      16384     ['stage1_unit1_relu3[0][0]']  \n",
            " )                                                                                                \n",
            "                                                                                                  \n",
            " stage1_unit1_sc (Conv2D)    (None, None, None, 256)      16384     ['stage1_unit1_relu1[0][0]']  \n",
            "                                                                                                  \n",
            " add (Add)                   (None, None, None, 256)      0         ['stage1_unit1_conv3[0][0]',  \n",
            "                                                                     'stage1_unit1_sc[0][0]']     \n",
            "                                                                                                  \n",
            " stage1_unit2_bn1 (BatchNor  (None, None, None, 256)      1024      ['add[0][0]']                 \n",
            " malization)                                                                                      \n",
            "                                                                                                  \n",
            " stage1_unit2_relu1 (Activa  (None, None, None, 256)      0         ['stage1_unit2_bn1[0][0]']    \n",
            " tion)                                                                                            \n",
            "                                                                                                  \n",
            " stage1_unit2_conv1 (Conv2D  (None, None, None, 64)       16384     ['stage1_unit2_relu1[0][0]']  \n",
            " )                                                                                                \n",
            "                                                                                                  \n",
            " stage1_unit2_bn2 (BatchNor  (None, None, None, 64)       256       ['stage1_unit2_conv1[0][0]']  \n",
            " malization)                                                                                      \n",
            "                                                                                                  \n",
            " stage1_unit2_relu2 (Activa  (None, None, None, 64)       0         ['stage1_unit2_bn2[0][0]']    \n",
            " tion)                                                                                            \n",
            "                                                                                                  \n",
            " zero_padding2d_3 (ZeroPadd  (None, None, None, 64)       0         ['stage1_unit2_relu2[0][0]']  \n",
            " ing2D)                                                                                           \n",
            "                                                                                                  \n",
            " stage1_unit2_conv2 (Conv2D  (None, None, None, 64)       36864     ['zero_padding2d_3[0][0]']    \n",
            " )                                                                                                \n",
            "                                                                                                  \n",
            " stage1_unit2_bn3 (BatchNor  (None, None, None, 64)       256       ['stage1_unit2_conv2[0][0]']  \n",
            " malization)                                                                                      \n",
            "                                                                                                  \n",
            " stage1_unit2_relu3 (Activa  (None, None, None, 64)       0         ['stage1_unit2_bn3[0][0]']    \n",
            " tion)                                                                                            \n",
            "                                                                                                  \n",
            " stage1_unit2_conv3 (Conv2D  (None, None, None, 256)      16384     ['stage1_unit2_relu3[0][0]']  \n",
            " )                                                                                                \n",
            "                                                                                                  \n",
            " add_1 (Add)                 (None, None, None, 256)      0         ['stage1_unit2_conv3[0][0]',  \n",
            "                                                                     'add[0][0]']                 \n",
            "                                                                                                  \n",
            " stage1_unit3_bn1 (BatchNor  (None, None, None, 256)      1024      ['add_1[0][0]']               \n",
            " malization)                                                                                      \n",
            "                                                                                                  \n",
            " stage1_unit3_relu1 (Activa  (None, None, None, 256)      0         ['stage1_unit3_bn1[0][0]']    \n",
            " tion)                                                                                            \n",
            "                                                                                                  \n",
            " stage1_unit3_conv1 (Conv2D  (None, None, None, 64)       16384     ['stage1_unit3_relu1[0][0]']  \n",
            " )                                                                                                \n",
            "                                                                                                  \n",
            " stage1_unit3_bn2 (BatchNor  (None, None, None, 64)       256       ['stage1_unit3_conv1[0][0]']  \n",
            " malization)                                                                                      \n",
            "                                                                                                  \n",
            " stage1_unit3_relu2 (Activa  (None, None, None, 64)       0         ['stage1_unit3_bn2[0][0]']    \n",
            " tion)                                                                                            \n",
            "                                                                                                  \n",
            " zero_padding2d_4 (ZeroPadd  (None, None, None, 64)       0         ['stage1_unit3_relu2[0][0]']  \n",
            " ing2D)                                                                                           \n",
            "                                                                                                  \n",
            " stage1_unit3_conv2 (Conv2D  (None, None, None, 64)       36864     ['zero_padding2d_4[0][0]']    \n",
            " )                                                                                                \n",
            "                                                                                                  \n",
            " stage1_unit3_bn3 (BatchNor  (None, None, None, 64)       256       ['stage1_unit3_conv2[0][0]']  \n",
            " malization)                                                                                      \n",
            "                                                                                                  \n",
            " stage1_unit3_relu3 (Activa  (None, None, None, 64)       0         ['stage1_unit3_bn3[0][0]']    \n",
            " tion)                                                                                            \n",
            "                                                                                                  \n",
            " stage1_unit3_conv3 (Conv2D  (None, None, None, 256)      16384     ['stage1_unit3_relu3[0][0]']  \n",
            " )                                                                                                \n",
            "                                                                                                  \n",
            " add_2 (Add)                 (None, None, None, 256)      0         ['stage1_unit3_conv3[0][0]',  \n",
            "                                                                     'add_1[0][0]']               \n",
            "                                                                                                  \n",
            " stage2_unit1_bn1 (BatchNor  (None, None, None, 256)      1024      ['add_2[0][0]']               \n",
            " malization)                                                                                      \n",
            "                                                                                                  \n",
            " stage2_unit1_relu1 (Activa  (None, None, None, 256)      0         ['stage2_unit1_bn1[0][0]']    \n",
            " tion)                                                                                            \n",
            "                                                                                                  \n",
            " stage2_unit1_conv1 (Conv2D  (None, None, None, 128)      32768     ['stage2_unit1_relu1[0][0]']  \n",
            " )                                                                                                \n",
            "                                                                                                  \n",
            " stage2_unit1_bn2 (BatchNor  (None, None, None, 128)      512       ['stage2_unit1_conv1[0][0]']  \n",
            " malization)                                                                                      \n",
            "                                                                                                  \n",
            " stage2_unit1_relu2 (Activa  (None, None, None, 128)      0         ['stage2_unit1_bn2[0][0]']    \n",
            " tion)                                                                                            \n",
            "                                                                                                  \n",
            " zero_padding2d_5 (ZeroPadd  (None, None, None, 128)      0         ['stage2_unit1_relu2[0][0]']  \n",
            " ing2D)                                                                                           \n",
            "                                                                                                  \n",
            " stage2_unit1_conv2 (Conv2D  (None, None, None, 128)      147456    ['zero_padding2d_5[0][0]']    \n",
            " )                                                                                                \n",
            "                                                                                                  \n",
            " stage2_unit1_bn3 (BatchNor  (None, None, None, 128)      512       ['stage2_unit1_conv2[0][0]']  \n",
            " malization)                                                                                      \n",
            "                                                                                                  \n",
            " stage2_unit1_relu3 (Activa  (None, None, None, 128)      0         ['stage2_unit1_bn3[0][0]']    \n",
            " tion)                                                                                            \n",
            "                                                                                                  \n",
            " stage2_unit1_conv3 (Conv2D  (None, None, None, 512)      65536     ['stage2_unit1_relu3[0][0]']  \n",
            " )                                                                                                \n",
            "                                                                                                  \n",
            " stage2_unit1_sc (Conv2D)    (None, None, None, 512)      131072    ['stage2_unit1_relu1[0][0]']  \n",
            "                                                                                                  \n",
            " add_3 (Add)                 (None, None, None, 512)      0         ['stage2_unit1_conv3[0][0]',  \n",
            "                                                                     'stage2_unit1_sc[0][0]']     \n",
            "                                                                                                  \n",
            " stage2_unit2_bn1 (BatchNor  (None, None, None, 512)      2048      ['add_3[0][0]']               \n",
            " malization)                                                                                      \n",
            "                                                                                                  \n",
            " stage2_unit2_relu1 (Activa  (None, None, None, 512)      0         ['stage2_unit2_bn1[0][0]']    \n",
            " tion)                                                                                            \n",
            "                                                                                                  \n",
            " stage2_unit2_conv1 (Conv2D  (None, None, None, 128)      65536     ['stage2_unit2_relu1[0][0]']  \n",
            " )                                                                                                \n",
            "                                                                                                  \n",
            " stage2_unit2_bn2 (BatchNor  (None, None, None, 128)      512       ['stage2_unit2_conv1[0][0]']  \n",
            " malization)                                                                                      \n",
            "                                                                                                  \n",
            " stage2_unit2_relu2 (Activa  (None, None, None, 128)      0         ['stage2_unit2_bn2[0][0]']    \n",
            " tion)                                                                                            \n",
            "                                                                                                  \n",
            " zero_padding2d_6 (ZeroPadd  (None, None, None, 128)      0         ['stage2_unit2_relu2[0][0]']  \n",
            " ing2D)                                                                                           \n",
            "                                                                                                  \n",
            " stage2_unit2_conv2 (Conv2D  (None, None, None, 128)      147456    ['zero_padding2d_6[0][0]']    \n",
            " )                                                                                                \n",
            "                                                                                                  \n",
            " stage2_unit2_bn3 (BatchNor  (None, None, None, 128)      512       ['stage2_unit2_conv2[0][0]']  \n",
            " malization)                                                                                      \n",
            "                                                                                                  \n",
            " stage2_unit2_relu3 (Activa  (None, None, None, 128)      0         ['stage2_unit2_bn3[0][0]']    \n",
            " tion)                                                                                            \n",
            "                                                                                                  \n",
            " stage2_unit2_conv3 (Conv2D  (None, None, None, 512)      65536     ['stage2_unit2_relu3[0][0]']  \n",
            " )                                                                                                \n",
            "                                                                                                  \n",
            " add_4 (Add)                 (None, None, None, 512)      0         ['stage2_unit2_conv3[0][0]',  \n",
            "                                                                     'add_3[0][0]']               \n",
            "                                                                                                  \n",
            " stage2_unit3_bn1 (BatchNor  (None, None, None, 512)      2048      ['add_4[0][0]']               \n",
            " malization)                                                                                      \n",
            "                                                                                                  \n",
            " stage2_unit3_relu1 (Activa  (None, None, None, 512)      0         ['stage2_unit3_bn1[0][0]']    \n",
            " tion)                                                                                            \n",
            "                                                                                                  \n",
            " stage2_unit3_conv1 (Conv2D  (None, None, None, 128)      65536     ['stage2_unit3_relu1[0][0]']  \n",
            " )                                                                                                \n",
            "                                                                                                  \n",
            " stage2_unit3_bn2 (BatchNor  (None, None, None, 128)      512       ['stage2_unit3_conv1[0][0]']  \n",
            " malization)                                                                                      \n",
            "                                                                                                  \n",
            " stage2_unit3_relu2 (Activa  (None, None, None, 128)      0         ['stage2_unit3_bn2[0][0]']    \n",
            " tion)                                                                                            \n",
            "                                                                                                  \n",
            " zero_padding2d_7 (ZeroPadd  (None, None, None, 128)      0         ['stage2_unit3_relu2[0][0]']  \n",
            " ing2D)                                                                                           \n",
            "                                                                                                  \n",
            " stage2_unit3_conv2 (Conv2D  (None, None, None, 128)      147456    ['zero_padding2d_7[0][0]']    \n",
            " )                                                                                                \n",
            "                                                                                                  \n",
            " stage2_unit3_bn3 (BatchNor  (None, None, None, 128)      512       ['stage2_unit3_conv2[0][0]']  \n",
            " malization)                                                                                      \n",
            "                                                                                                  \n",
            " stage2_unit3_relu3 (Activa  (None, None, None, 128)      0         ['stage2_unit3_bn3[0][0]']    \n",
            " tion)                                                                                            \n",
            "                                                                                                  \n",
            " stage2_unit3_conv3 (Conv2D  (None, None, None, 512)      65536     ['stage2_unit3_relu3[0][0]']  \n",
            " )                                                                                                \n",
            "                                                                                                  \n",
            " add_5 (Add)                 (None, None, None, 512)      0         ['stage2_unit3_conv3[0][0]',  \n",
            "                                                                     'add_4[0][0]']               \n",
            "                                                                                                  \n",
            " stage2_unit4_bn1 (BatchNor  (None, None, None, 512)      2048      ['add_5[0][0]']               \n",
            " malization)                                                                                      \n",
            "                                                                                                  \n",
            " stage2_unit4_relu1 (Activa  (None, None, None, 512)      0         ['stage2_unit4_bn1[0][0]']    \n",
            " tion)                                                                                            \n",
            "                                                                                                  \n",
            " stage2_unit4_conv1 (Conv2D  (None, None, None, 128)      65536     ['stage2_unit4_relu1[0][0]']  \n",
            " )                                                                                                \n",
            "                                                                                                  \n",
            " stage2_unit4_bn2 (BatchNor  (None, None, None, 128)      512       ['stage2_unit4_conv1[0][0]']  \n",
            " malization)                                                                                      \n",
            "                                                                                                  \n",
            " stage2_unit4_relu2 (Activa  (None, None, None, 128)      0         ['stage2_unit4_bn2[0][0]']    \n",
            " tion)                                                                                            \n",
            "                                                                                                  \n",
            " zero_padding2d_8 (ZeroPadd  (None, None, None, 128)      0         ['stage2_unit4_relu2[0][0]']  \n",
            " ing2D)                                                                                           \n",
            "                                                                                                  \n",
            " stage2_unit4_conv2 (Conv2D  (None, None, None, 128)      147456    ['zero_padding2d_8[0][0]']    \n",
            " )                                                                                                \n",
            "                                                                                                  \n",
            " stage2_unit4_bn3 (BatchNor  (None, None, None, 128)      512       ['stage2_unit4_conv2[0][0]']  \n",
            " malization)                                                                                      \n",
            "                                                                                                  \n",
            " stage2_unit4_relu3 (Activa  (None, None, None, 128)      0         ['stage2_unit4_bn3[0][0]']    \n",
            " tion)                                                                                            \n",
            "                                                                                                  \n",
            " stage2_unit4_conv3 (Conv2D  (None, None, None, 512)      65536     ['stage2_unit4_relu3[0][0]']  \n",
            " )                                                                                                \n",
            "                                                                                                  \n",
            " add_6 (Add)                 (None, None, None, 512)      0         ['stage2_unit4_conv3[0][0]',  \n",
            "                                                                     'add_5[0][0]']               \n",
            "                                                                                                  \n",
            " stage3_unit1_bn1 (BatchNor  (None, None, None, 512)      2048      ['add_6[0][0]']               \n",
            " malization)                                                                                      \n",
            "                                                                                                  \n",
            " stage3_unit1_relu1 (Activa  (None, None, None, 512)      0         ['stage3_unit1_bn1[0][0]']    \n",
            " tion)                                                                                            \n",
            "                                                                                                  \n",
            " stage3_unit1_conv1 (Conv2D  (None, None, None, 256)      131072    ['stage3_unit1_relu1[0][0]']  \n",
            " )                                                                                                \n",
            "                                                                                                  \n",
            " stage3_unit1_bn2 (BatchNor  (None, None, None, 256)      1024      ['stage3_unit1_conv1[0][0]']  \n",
            " malization)                                                                                      \n",
            "                                                                                                  \n",
            " stage3_unit1_relu2 (Activa  (None, None, None, 256)      0         ['stage3_unit1_bn2[0][0]']    \n",
            " tion)                                                                                            \n",
            "                                                                                                  \n",
            " zero_padding2d_9 (ZeroPadd  (None, None, None, 256)      0         ['stage3_unit1_relu2[0][0]']  \n",
            " ing2D)                                                                                           \n",
            "                                                                                                  \n",
            " stage3_unit1_conv2 (Conv2D  (None, None, None, 256)      589824    ['zero_padding2d_9[0][0]']    \n",
            " )                                                                                                \n",
            "                                                                                                  \n",
            " stage3_unit1_bn3 (BatchNor  (None, None, None, 256)      1024      ['stage3_unit1_conv2[0][0]']  \n",
            " malization)                                                                                      \n",
            "                                                                                                  \n",
            " stage3_unit1_relu3 (Activa  (None, None, None, 256)      0         ['stage3_unit1_bn3[0][0]']    \n",
            " tion)                                                                                            \n",
            "                                                                                                  \n",
            " stage3_unit1_conv3 (Conv2D  (None, None, None, 1024)     262144    ['stage3_unit1_relu3[0][0]']  \n",
            " )                                                                                                \n",
            "                                                                                                  \n",
            " stage3_unit1_sc (Conv2D)    (None, None, None, 1024)     524288    ['stage3_unit1_relu1[0][0]']  \n",
            "                                                                                                  \n",
            " add_7 (Add)                 (None, None, None, 1024)     0         ['stage3_unit1_conv3[0][0]',  \n",
            "                                                                     'stage3_unit1_sc[0][0]']     \n",
            "                                                                                                  \n",
            " stage3_unit2_bn1 (BatchNor  (None, None, None, 1024)     4096      ['add_7[0][0]']               \n",
            " malization)                                                                                      \n",
            "                                                                                                  \n",
            " stage3_unit2_relu1 (Activa  (None, None, None, 1024)     0         ['stage3_unit2_bn1[0][0]']    \n",
            " tion)                                                                                            \n",
            "                                                                                                  \n",
            " stage3_unit2_conv1 (Conv2D  (None, None, None, 256)      262144    ['stage3_unit2_relu1[0][0]']  \n",
            " )                                                                                                \n",
            "                                                                                                  \n",
            " stage3_unit2_bn2 (BatchNor  (None, None, None, 256)      1024      ['stage3_unit2_conv1[0][0]']  \n",
            " malization)                                                                                      \n",
            "                                                                                                  \n",
            " stage3_unit2_relu2 (Activa  (None, None, None, 256)      0         ['stage3_unit2_bn2[0][0]']    \n",
            " tion)                                                                                            \n",
            "                                                                                                  \n",
            " zero_padding2d_10 (ZeroPad  (None, None, None, 256)      0         ['stage3_unit2_relu2[0][0]']  \n",
            " ding2D)                                                                                          \n",
            "                                                                                                  \n",
            " stage3_unit2_conv2 (Conv2D  (None, None, None, 256)      589824    ['zero_padding2d_10[0][0]']   \n",
            " )                                                                                                \n",
            "                                                                                                  \n",
            " stage3_unit2_bn3 (BatchNor  (None, None, None, 256)      1024      ['stage3_unit2_conv2[0][0]']  \n",
            " malization)                                                                                      \n",
            "                                                                                                  \n",
            " stage3_unit2_relu3 (Activa  (None, None, None, 256)      0         ['stage3_unit2_bn3[0][0]']    \n",
            " tion)                                                                                            \n",
            "                                                                                                  \n",
            " stage3_unit2_conv3 (Conv2D  (None, None, None, 1024)     262144    ['stage3_unit2_relu3[0][0]']  \n",
            " )                                                                                                \n",
            "                                                                                                  \n",
            " add_8 (Add)                 (None, None, None, 1024)     0         ['stage3_unit2_conv3[0][0]',  \n",
            "                                                                     'add_7[0][0]']               \n",
            "                                                                                                  \n",
            " stage3_unit3_bn1 (BatchNor  (None, None, None, 1024)     4096      ['add_8[0][0]']               \n",
            " malization)                                                                                      \n",
            "                                                                                                  \n",
            " stage3_unit3_relu1 (Activa  (None, None, None, 1024)     0         ['stage3_unit3_bn1[0][0]']    \n",
            " tion)                                                                                            \n",
            "                                                                                                  \n",
            " stage3_unit3_conv1 (Conv2D  (None, None, None, 256)      262144    ['stage3_unit3_relu1[0][0]']  \n",
            " )                                                                                                \n",
            "                                                                                                  \n",
            " stage3_unit3_bn2 (BatchNor  (None, None, None, 256)      1024      ['stage3_unit3_conv1[0][0]']  \n",
            " malization)                                                                                      \n",
            "                                                                                                  \n",
            " stage3_unit3_relu2 (Activa  (None, None, None, 256)      0         ['stage3_unit3_bn2[0][0]']    \n",
            " tion)                                                                                            \n",
            "                                                                                                  \n",
            " zero_padding2d_11 (ZeroPad  (None, None, None, 256)      0         ['stage3_unit3_relu2[0][0]']  \n",
            " ding2D)                                                                                          \n",
            "                                                                                                  \n",
            " stage3_unit3_conv2 (Conv2D  (None, None, None, 256)      589824    ['zero_padding2d_11[0][0]']   \n",
            " )                                                                                                \n",
            "                                                                                                  \n",
            " stage3_unit3_bn3 (BatchNor  (None, None, None, 256)      1024      ['stage3_unit3_conv2[0][0]']  \n",
            " malization)                                                                                      \n",
            "                                                                                                  \n",
            " stage3_unit3_relu3 (Activa  (None, None, None, 256)      0         ['stage3_unit3_bn3[0][0]']    \n",
            " tion)                                                                                            \n",
            "                                                                                                  \n",
            " stage3_unit3_conv3 (Conv2D  (None, None, None, 1024)     262144    ['stage3_unit3_relu3[0][0]']  \n",
            " )                                                                                                \n",
            "                                                                                                  \n",
            " add_9 (Add)                 (None, None, None, 1024)     0         ['stage3_unit3_conv3[0][0]',  \n",
            "                                                                     'add_8[0][0]']               \n",
            "                                                                                                  \n",
            " stage3_unit4_bn1 (BatchNor  (None, None, None, 1024)     4096      ['add_9[0][0]']               \n",
            " malization)                                                                                      \n",
            "                                                                                                  \n",
            " stage3_unit4_relu1 (Activa  (None, None, None, 1024)     0         ['stage3_unit4_bn1[0][0]']    \n",
            " tion)                                                                                            \n",
            "                                                                                                  \n",
            " stage3_unit4_conv1 (Conv2D  (None, None, None, 256)      262144    ['stage3_unit4_relu1[0][0]']  \n",
            " )                                                                                                \n",
            "                                                                                                  \n",
            " stage3_unit4_bn2 (BatchNor  (None, None, None, 256)      1024      ['stage3_unit4_conv1[0][0]']  \n",
            " malization)                                                                                      \n",
            "                                                                                                  \n",
            " stage3_unit4_relu2 (Activa  (None, None, None, 256)      0         ['stage3_unit4_bn2[0][0]']    \n",
            " tion)                                                                                            \n",
            "                                                                                                  \n",
            " zero_padding2d_12 (ZeroPad  (None, None, None, 256)      0         ['stage3_unit4_relu2[0][0]']  \n",
            " ding2D)                                                                                          \n",
            "                                                                                                  \n",
            " stage3_unit4_conv2 (Conv2D  (None, None, None, 256)      589824    ['zero_padding2d_12[0][0]']   \n",
            " )                                                                                                \n",
            "                                                                                                  \n",
            " stage3_unit4_bn3 (BatchNor  (None, None, None, 256)      1024      ['stage3_unit4_conv2[0][0]']  \n",
            " malization)                                                                                      \n",
            "                                                                                                  \n",
            " stage3_unit4_relu3 (Activa  (None, None, None, 256)      0         ['stage3_unit4_bn3[0][0]']    \n",
            " tion)                                                                                            \n",
            "                                                                                                  \n",
            " stage3_unit4_conv3 (Conv2D  (None, None, None, 1024)     262144    ['stage3_unit4_relu3[0][0]']  \n",
            " )                                                                                                \n",
            "                                                                                                  \n",
            " add_10 (Add)                (None, None, None, 1024)     0         ['stage3_unit4_conv3[0][0]',  \n",
            "                                                                     'add_9[0][0]']               \n",
            "                                                                                                  \n",
            " stage3_unit5_bn1 (BatchNor  (None, None, None, 1024)     4096      ['add_10[0][0]']              \n",
            " malization)                                                                                      \n",
            "                                                                                                  \n",
            " stage3_unit5_relu1 (Activa  (None, None, None, 1024)     0         ['stage3_unit5_bn1[0][0]']    \n",
            " tion)                                                                                            \n",
            "                                                                                                  \n",
            " stage3_unit5_conv1 (Conv2D  (None, None, None, 256)      262144    ['stage3_unit5_relu1[0][0]']  \n",
            " )                                                                                                \n",
            "                                                                                                  \n",
            " stage3_unit5_bn2 (BatchNor  (None, None, None, 256)      1024      ['stage3_unit5_conv1[0][0]']  \n",
            " malization)                                                                                      \n",
            "                                                                                                  \n",
            " stage3_unit5_relu2 (Activa  (None, None, None, 256)      0         ['stage3_unit5_bn2[0][0]']    \n",
            " tion)                                                                                            \n",
            "                                                                                                  \n",
            " zero_padding2d_13 (ZeroPad  (None, None, None, 256)      0         ['stage3_unit5_relu2[0][0]']  \n",
            " ding2D)                                                                                          \n",
            "                                                                                                  \n",
            " stage3_unit5_conv2 (Conv2D  (None, None, None, 256)      589824    ['zero_padding2d_13[0][0]']   \n",
            " )                                                                                                \n",
            "                                                                                                  \n",
            " stage3_unit5_bn3 (BatchNor  (None, None, None, 256)      1024      ['stage3_unit5_conv2[0][0]']  \n",
            " malization)                                                                                      \n",
            "                                                                                                  \n",
            " stage3_unit5_relu3 (Activa  (None, None, None, 256)      0         ['stage3_unit5_bn3[0][0]']    \n",
            " tion)                                                                                            \n",
            "                                                                                                  \n",
            " stage3_unit5_conv3 (Conv2D  (None, None, None, 1024)     262144    ['stage3_unit5_relu3[0][0]']  \n",
            " )                                                                                                \n",
            "                                                                                                  \n",
            " add_11 (Add)                (None, None, None, 1024)     0         ['stage3_unit5_conv3[0][0]',  \n",
            "                                                                     'add_10[0][0]']              \n",
            "                                                                                                  \n",
            " stage3_unit6_bn1 (BatchNor  (None, None, None, 1024)     4096      ['add_11[0][0]']              \n",
            " malization)                                                                                      \n",
            "                                                                                                  \n",
            " stage3_unit6_relu1 (Activa  (None, None, None, 1024)     0         ['stage3_unit6_bn1[0][0]']    \n",
            " tion)                                                                                            \n",
            "                                                                                                  \n",
            " stage3_unit6_conv1 (Conv2D  (None, None, None, 256)      262144    ['stage3_unit6_relu1[0][0]']  \n",
            " )                                                                                                \n",
            "                                                                                                  \n",
            " stage3_unit6_bn2 (BatchNor  (None, None, None, 256)      1024      ['stage3_unit6_conv1[0][0]']  \n",
            " malization)                                                                                      \n",
            "                                                                                                  \n",
            " stage3_unit6_relu2 (Activa  (None, None, None, 256)      0         ['stage3_unit6_bn2[0][0]']    \n",
            " tion)                                                                                            \n",
            "                                                                                                  \n",
            " zero_padding2d_14 (ZeroPad  (None, None, None, 256)      0         ['stage3_unit6_relu2[0][0]']  \n",
            " ding2D)                                                                                          \n",
            "                                                                                                  \n",
            " stage3_unit6_conv2 (Conv2D  (None, None, None, 256)      589824    ['zero_padding2d_14[0][0]']   \n",
            " )                                                                                                \n",
            "                                                                                                  \n",
            " stage3_unit6_bn3 (BatchNor  (None, None, None, 256)      1024      ['stage3_unit6_conv2[0][0]']  \n",
            " malization)                                                                                      \n",
            "                                                                                                  \n",
            " stage3_unit6_relu3 (Activa  (None, None, None, 256)      0         ['stage3_unit6_bn3[0][0]']    \n",
            " tion)                                                                                            \n",
            "                                                                                                  \n",
            " stage3_unit6_conv3 (Conv2D  (None, None, None, 1024)     262144    ['stage3_unit6_relu3[0][0]']  \n",
            " )                                                                                                \n",
            "                                                                                                  \n",
            " add_12 (Add)                (None, None, None, 1024)     0         ['stage3_unit6_conv3[0][0]',  \n",
            "                                                                     'add_11[0][0]']              \n",
            "                                                                                                  \n",
            " stage4_unit1_bn1 (BatchNor  (None, None, None, 1024)     4096      ['add_12[0][0]']              \n",
            " malization)                                                                                      \n",
            "                                                                                                  \n",
            " stage4_unit1_relu1 (Activa  (None, None, None, 1024)     0         ['stage4_unit1_bn1[0][0]']    \n",
            " tion)                                                                                            \n",
            "                                                                                                  \n",
            " stage4_unit1_conv1 (Conv2D  (None, None, None, 512)      524288    ['stage4_unit1_relu1[0][0]']  \n",
            " )                                                                                                \n",
            "                                                                                                  \n",
            " stage4_unit1_bn2 (BatchNor  (None, None, None, 512)      2048      ['stage4_unit1_conv1[0][0]']  \n",
            " malization)                                                                                      \n",
            "                                                                                                  \n",
            " stage4_unit1_relu2 (Activa  (None, None, None, 512)      0         ['stage4_unit1_bn2[0][0]']    \n",
            " tion)                                                                                            \n",
            "                                                                                                  \n",
            " zero_padding2d_15 (ZeroPad  (None, None, None, 512)      0         ['stage4_unit1_relu2[0][0]']  \n",
            " ding2D)                                                                                          \n",
            "                                                                                                  \n",
            " stage4_unit1_conv2 (Conv2D  (None, None, None, 512)      2359296   ['zero_padding2d_15[0][0]']   \n",
            " )                                                                                                \n",
            "                                                                                                  \n",
            " stage4_unit1_bn3 (BatchNor  (None, None, None, 512)      2048      ['stage4_unit1_conv2[0][0]']  \n",
            " malization)                                                                                      \n",
            "                                                                                                  \n",
            " stage4_unit1_relu3 (Activa  (None, None, None, 512)      0         ['stage4_unit1_bn3[0][0]']    \n",
            " tion)                                                                                            \n",
            "                                                                                                  \n",
            " stage4_unit1_conv3 (Conv2D  (None, None, None, 2048)     1048576   ['stage4_unit1_relu3[0][0]']  \n",
            " )                                                                                                \n",
            "                                                                                                  \n",
            " stage4_unit1_sc (Conv2D)    (None, None, None, 2048)     2097152   ['stage4_unit1_relu1[0][0]']  \n",
            "                                                                                                  \n",
            " add_13 (Add)                (None, None, None, 2048)     0         ['stage4_unit1_conv3[0][0]',  \n",
            "                                                                     'stage4_unit1_sc[0][0]']     \n",
            "                                                                                                  \n",
            " stage4_unit2_bn1 (BatchNor  (None, None, None, 2048)     8192      ['add_13[0][0]']              \n",
            " malization)                                                                                      \n",
            "                                                                                                  \n",
            " stage4_unit2_relu1 (Activa  (None, None, None, 2048)     0         ['stage4_unit2_bn1[0][0]']    \n",
            " tion)                                                                                            \n",
            "                                                                                                  \n",
            " stage4_unit2_conv1 (Conv2D  (None, None, None, 512)      1048576   ['stage4_unit2_relu1[0][0]']  \n",
            " )                                                                                                \n",
            "                                                                                                  \n",
            " stage4_unit2_bn2 (BatchNor  (None, None, None, 512)      2048      ['stage4_unit2_conv1[0][0]']  \n",
            " malization)                                                                                      \n",
            "                                                                                                  \n",
            " stage4_unit2_relu2 (Activa  (None, None, None, 512)      0         ['stage4_unit2_bn2[0][0]']    \n",
            " tion)                                                                                            \n",
            "                                                                                                  \n",
            " zero_padding2d_16 (ZeroPad  (None, None, None, 512)      0         ['stage4_unit2_relu2[0][0]']  \n",
            " ding2D)                                                                                          \n",
            "                                                                                                  \n",
            " stage4_unit2_conv2 (Conv2D  (None, None, None, 512)      2359296   ['zero_padding2d_16[0][0]']   \n",
            " )                                                                                                \n",
            "                                                                                                  \n",
            " stage4_unit2_bn3 (BatchNor  (None, None, None, 512)      2048      ['stage4_unit2_conv2[0][0]']  \n",
            " malization)                                                                                      \n",
            "                                                                                                  \n",
            " stage4_unit2_relu3 (Activa  (None, None, None, 512)      0         ['stage4_unit2_bn3[0][0]']    \n",
            " tion)                                                                                            \n",
            "                                                                                                  \n",
            " stage4_unit2_conv3 (Conv2D  (None, None, None, 2048)     1048576   ['stage4_unit2_relu3[0][0]']  \n",
            " )                                                                                                \n",
            "                                                                                                  \n",
            " add_14 (Add)                (None, None, None, 2048)     0         ['stage4_unit2_conv3[0][0]',  \n",
            "                                                                     'add_13[0][0]']              \n",
            "                                                                                                  \n",
            " stage4_unit3_bn1 (BatchNor  (None, None, None, 2048)     8192      ['add_14[0][0]']              \n",
            " malization)                                                                                      \n",
            "                                                                                                  \n",
            " stage4_unit3_relu1 (Activa  (None, None, None, 2048)     0         ['stage4_unit3_bn1[0][0]']    \n",
            " tion)                                                                                            \n",
            "                                                                                                  \n",
            " stage4_unit3_conv1 (Conv2D  (None, None, None, 512)      1048576   ['stage4_unit3_relu1[0][0]']  \n",
            " )                                                                                                \n",
            "                                                                                                  \n",
            " stage4_unit3_bn2 (BatchNor  (None, None, None, 512)      2048      ['stage4_unit3_conv1[0][0]']  \n",
            " malization)                                                                                      \n",
            "                                                                                                  \n",
            " stage4_unit3_relu2 (Activa  (None, None, None, 512)      0         ['stage4_unit3_bn2[0][0]']    \n",
            " tion)                                                                                            \n",
            "                                                                                                  \n",
            " zero_padding2d_17 (ZeroPad  (None, None, None, 512)      0         ['stage4_unit3_relu2[0][0]']  \n",
            " ding2D)                                                                                          \n",
            "                                                                                                  \n",
            " stage4_unit3_conv2 (Conv2D  (None, None, None, 512)      2359296   ['zero_padding2d_17[0][0]']   \n",
            " )                                                                                                \n",
            "                                                                                                  \n",
            " stage4_unit3_bn3 (BatchNor  (None, None, None, 512)      2048      ['stage4_unit3_conv2[0][0]']  \n",
            " malization)                                                                                      \n",
            "                                                                                                  \n",
            " stage4_unit3_relu3 (Activa  (None, None, None, 512)      0         ['stage4_unit3_bn3[0][0]']    \n",
            " tion)                                                                                            \n",
            "                                                                                                  \n",
            " stage4_unit3_conv3 (Conv2D  (None, None, None, 2048)     1048576   ['stage4_unit3_relu3[0][0]']  \n",
            " )                                                                                                \n",
            "                                                                                                  \n",
            " add_15 (Add)                (None, None, None, 2048)     0         ['stage4_unit3_conv3[0][0]',  \n",
            "                                                                     'add_14[0][0]']              \n",
            "                                                                                                  \n",
            " bn1 (BatchNormalization)    (None, None, None, 2048)     8192      ['add_15[0][0]']              \n",
            "                                                                                                  \n",
            " relu1 (Activation)          (None, None, None, 2048)     0         ['bn1[0][0]']                 \n",
            "                                                                                                  \n",
            " decoder_stage0_upsampling   (None, None, None, 2048)     0         ['relu1[0][0]']               \n",
            " (UpSampling2D)                                                                                   \n",
            "                                                                                                  \n",
            " decoder_stage0_concat (Con  (None, None, None, 3072)     0         ['decoder_stage0_upsampling[0]\n",
            " catenate)                                                          [0]',                         \n",
            "                                                                     'stage4_unit1_relu1[0][0]']  \n",
            "                                                                                                  \n",
            " decoder_stage0a_conv (Conv  (None, None, None, 256)      7077888   ['decoder_stage0_concat[0][0]'\n",
            " 2D)                                                                ]                             \n",
            "                                                                                                  \n",
            " decoder_stage0a_bn (BatchN  (None, None, None, 256)      1024      ['decoder_stage0a_conv[0][0]']\n",
            " ormalization)                                                                                    \n",
            "                                                                                                  \n",
            " decoder_stage0a_relu (Acti  (None, None, None, 256)      0         ['decoder_stage0a_bn[0][0]']  \n",
            " vation)                                                                                          \n",
            "                                                                                                  \n",
            " decoder_stage0b_conv (Conv  (None, None, None, 256)      589824    ['decoder_stage0a_relu[0][0]']\n",
            " 2D)                                                                                              \n",
            "                                                                                                  \n",
            " decoder_stage0b_bn (BatchN  (None, None, None, 256)      1024      ['decoder_stage0b_conv[0][0]']\n",
            " ormalization)                                                                                    \n",
            "                                                                                                  \n",
            " decoder_stage0b_relu (Acti  (None, None, None, 256)      0         ['decoder_stage0b_bn[0][0]']  \n",
            " vation)                                                                                          \n",
            "                                                                                                  \n",
            " decoder_stage1_upsampling   (None, None, None, 256)      0         ['decoder_stage0b_relu[0][0]']\n",
            " (UpSampling2D)                                                                                   \n",
            "                                                                                                  \n",
            " decoder_stage1_concat (Con  (None, None, None, 768)      0         ['decoder_stage1_upsampling[0]\n",
            " catenate)                                                          [0]',                         \n",
            "                                                                     'stage3_unit1_relu1[0][0]']  \n",
            "                                                                                                  \n",
            " decoder_stage1a_conv (Conv  (None, None, None, 128)      884736    ['decoder_stage1_concat[0][0]'\n",
            " 2D)                                                                ]                             \n",
            "                                                                                                  \n",
            " decoder_stage1a_bn (BatchN  (None, None, None, 128)      512       ['decoder_stage1a_conv[0][0]']\n",
            " ormalization)                                                                                    \n",
            "                                                                                                  \n",
            " decoder_stage1a_relu (Acti  (None, None, None, 128)      0         ['decoder_stage1a_bn[0][0]']  \n",
            " vation)                                                                                          \n",
            "                                                                                                  \n",
            " decoder_stage1b_conv (Conv  (None, None, None, 128)      147456    ['decoder_stage1a_relu[0][0]']\n",
            " 2D)                                                                                              \n",
            "                                                                                                  \n",
            " decoder_stage1b_bn (BatchN  (None, None, None, 128)      512       ['decoder_stage1b_conv[0][0]']\n",
            " ormalization)                                                                                    \n",
            "                                                                                                  \n",
            " decoder_stage1b_relu (Acti  (None, None, None, 128)      0         ['decoder_stage1b_bn[0][0]']  \n",
            " vation)                                                                                          \n",
            "                                                                                                  \n",
            " decoder_stage2_upsampling   (None, None, None, 128)      0         ['decoder_stage1b_relu[0][0]']\n",
            " (UpSampling2D)                                                                                   \n",
            "                                                                                                  \n",
            " decoder_stage2_concat (Con  (None, None, None, 384)      0         ['decoder_stage2_upsampling[0]\n",
            " catenate)                                                          [0]',                         \n",
            "                                                                     'stage2_unit1_relu1[0][0]']  \n",
            "                                                                                                  \n",
            " decoder_stage2a_conv (Conv  (None, None, None, 64)       221184    ['decoder_stage2_concat[0][0]'\n",
            " 2D)                                                                ]                             \n",
            "                                                                                                  \n",
            " decoder_stage2a_bn (BatchN  (None, None, None, 64)       256       ['decoder_stage2a_conv[0][0]']\n",
            " ormalization)                                                                                    \n",
            "                                                                                                  \n",
            " decoder_stage2a_relu (Acti  (None, None, None, 64)       0         ['decoder_stage2a_bn[0][0]']  \n",
            " vation)                                                                                          \n",
            "                                                                                                  \n",
            " decoder_stage2b_conv (Conv  (None, None, None, 64)       36864     ['decoder_stage2a_relu[0][0]']\n",
            " 2D)                                                                                              \n",
            "                                                                                                  \n",
            " decoder_stage2b_bn (BatchN  (None, None, None, 64)       256       ['decoder_stage2b_conv[0][0]']\n",
            " ormalization)                                                                                    \n",
            "                                                                                                  \n",
            " decoder_stage2b_relu (Acti  (None, None, None, 64)       0         ['decoder_stage2b_bn[0][0]']  \n",
            " vation)                                                                                          \n",
            "                                                                                                  \n",
            " decoder_stage3_upsampling   (None, None, None, 64)       0         ['decoder_stage2b_relu[0][0]']\n",
            " (UpSampling2D)                                                                                   \n",
            "                                                                                                  \n",
            " decoder_stage3_concat (Con  (None, None, None, 128)      0         ['decoder_stage3_upsampling[0]\n",
            " catenate)                                                          [0]',                         \n",
            "                                                                     'relu0[0][0]']               \n",
            "                                                                                                  \n",
            " decoder_stage3a_conv (Conv  (None, None, None, 32)       36864     ['decoder_stage3_concat[0][0]'\n",
            " 2D)                                                                ]                             \n",
            "                                                                                                  \n",
            " decoder_stage3a_bn (BatchN  (None, None, None, 32)       128       ['decoder_stage3a_conv[0][0]']\n",
            " ormalization)                                                                                    \n",
            "                                                                                                  \n",
            " decoder_stage3a_relu (Acti  (None, None, None, 32)       0         ['decoder_stage3a_bn[0][0]']  \n",
            " vation)                                                                                          \n",
            "                                                                                                  \n",
            " decoder_stage3b_conv (Conv  (None, None, None, 32)       9216      ['decoder_stage3a_relu[0][0]']\n",
            " 2D)                                                                                              \n",
            "                                                                                                  \n",
            " decoder_stage3b_bn (BatchN  (None, None, None, 32)       128       ['decoder_stage3b_conv[0][0]']\n",
            " ormalization)                                                                                    \n",
            "                                                                                                  \n",
            " decoder_stage3b_relu (Acti  (None, None, None, 32)       0         ['decoder_stage3b_bn[0][0]']  \n",
            " vation)                                                                                          \n",
            "                                                                                                  \n",
            " decoder_stage4_upsampling   (None, None, None, 32)       0         ['decoder_stage3b_relu[0][0]']\n",
            " (UpSampling2D)                                                                                   \n",
            "                                                                                                  \n",
            " decoder_stage4a_conv (Conv  (None, None, None, 16)       4608      ['decoder_stage4_upsampling[0]\n",
            " 2D)                                                                [0]']                         \n",
            "                                                                                                  \n",
            " decoder_stage4a_bn (BatchN  (None, None, None, 16)       64        ['decoder_stage4a_conv[0][0]']\n",
            " ormalization)                                                                                    \n",
            "                                                                                                  \n",
            " decoder_stage4a_relu (Acti  (None, None, None, 16)       0         ['decoder_stage4a_bn[0][0]']  \n",
            " vation)                                                                                          \n",
            "                                                                                                  \n",
            " decoder_stage4b_conv (Conv  (None, None, None, 16)       2304      ['decoder_stage4a_relu[0][0]']\n",
            " 2D)                                                                                              \n",
            "                                                                                                  \n",
            " decoder_stage4b_bn (BatchN  (None, None, None, 16)       64        ['decoder_stage4b_conv[0][0]']\n",
            " ormalization)                                                                                    \n",
            "                                                                                                  \n",
            " decoder_stage4b_relu (Acti  (None, None, None, 16)       0         ['decoder_stage4b_bn[0][0]']  \n",
            " vation)                                                                                          \n",
            "                                                                                                  \n",
            " final_conv (Conv2D)         (None, None, None, 12)       1740      ['decoder_stage4b_relu[0][0]']\n",
            "                                                                                                  \n",
            " softmax (Activation)        (None, None, None, 12)       0         ['final_conv[0][0]']          \n",
            "                                                                                                  \n",
            "==================================================================================================\n",
            "Total params: 32562709 (124.22 MB)\n",
            "Trainable params: 32515151 (124.04 MB)\n",
            "Non-trainable params: 47558 (185.77 KB)\n",
            "__________________________________________________________________________________________________\n",
            "None\n"
          ]
        }
      ]
    },
    {
      "cell_type": "markdown",
      "source": [
        "## Train"
      ],
      "metadata": {
        "id": "K6poAt-mXw0P"
      }
    },
    {
      "cell_type": "code",
      "source": [
        "class_weights"
      ],
      "metadata": {
        "colab": {
          "base_uri": "https://localhost:8080/"
        },
        "id": "uLpr_TwDiLr2",
        "outputId": "c7f00107-6e80-4f10-8f4e-b15e295f7828"
      },
      "execution_count": null,
      "outputs": [
        {
          "output_type": "execute_result",
          "data": {
            "text/plain": [
              "array([ 0.49103854,  0.35784426,  8.39919932,  0.26478814,  1.85447001,\n",
              "        0.85473691,  7.09864436,  7.38880471,  1.41907148, 13.04489729,\n",
              "       28.49985544,  2.1209241 ])"
            ]
          },
          "metadata": {},
          "execution_count": 49
        }
      ]
    },
    {
      "cell_type": "code",
      "source": [
        "class_weights_map = {}\n",
        "for i in range(len(class_weights)):\n",
        "    class_weights_map[i] = class_weights[i]\n",
        "\n",
        "class_weights_map"
      ],
      "metadata": {
        "id": "g-0l-QyRiR09",
        "colab": {
          "base_uri": "https://localhost:8080/"
        },
        "outputId": "ed7912b5-e2f9-40f1-92cd-4e92567ce289"
      },
      "execution_count": 44,
      "outputs": [
        {
          "output_type": "execute_result",
          "data": {
            "text/plain": [
              "{0: 0.49103854139309294,\n",
              " 1: 0.3578442627409378,\n",
              " 2: 8.399199321686341,\n",
              " 3: 0.2647881411892111,\n",
              " 4: 1.8544700109209329,\n",
              " 5: 0.8547369097386731,\n",
              " 6: 7.0986443587355215,\n",
              " 7: 7.388804714735638,\n",
              " 8: 1.4190714823633475,\n",
              " 9: 13.044897286203657,\n",
              " 10: 28.499855437219466,\n",
              " 11: 2.1209241033053727}"
            ]
          },
          "metadata": {},
          "execution_count": 44
        }
      ]
    },
    {
      "cell_type": "code",
      "source": [
        "unet_resnet50.compile(optim, dice_loss, metrics=metrics)"
      ],
      "metadata": {
        "id": "iu7mb_FPwN9O"
      },
      "execution_count": null,
      "outputs": []
    },
    {
      "cell_type": "code",
      "source": [
        "history=unet_resnet50.fit(\n",
        "    X_train,\n",
        "    y_train_cat,\n",
        "    batch_size=4,\n",
        "    epochs=100,\n",
        "    verbose=1,\n",
        "    validation_data=(X_test, y_test_cat),\n",
        "    callbacks=callbacks,\n",
        "    class_weight=class_weights_map\n",
        "    )"
      ],
      "metadata": {
        "id": "nw6dXLssmhmf",
        "colab": {
          "base_uri": "https://localhost:8080/"
        },
        "outputId": "60aaa494-67e2-4f36-f918-4339e04de933"
      },
      "execution_count": null,
      "outputs": [
        {
          "output_type": "stream",
          "name": "stdout",
          "text": [
            "Epoch 1/100\n",
            "92/92 [==============================] - ETA: 0s - loss: 0.8339 - iou_score: 0.1561 - f1-score: 0.2031\n",
            "Epoch 1: val_loss improved from inf to 0.98248, saving model to /content/drive/MyDrive/cv_bootcamp_indonesiaai/project_3/models/resnet50_unet_segmentation_comb_losses\n",
            "92/92 [==============================] - 88s 610ms/step - loss: 0.8339 - iou_score: 0.1561 - f1-score: 0.2031 - val_loss: 0.9825 - val_iou_score: 3.3792e-09 - val_f1-score: 3.3792e-09\n",
            "Epoch 2/100\n",
            "92/92 [==============================] - ETA: 0s - loss: 0.6897 - iou_score: 0.3382 - f1-score: 0.3993\n",
            "Epoch 2: val_loss improved from 0.98248 to 0.93867, saving model to /content/drive/MyDrive/cv_bootcamp_indonesiaai/project_3/models/resnet50_unet_segmentation_comb_losses\n",
            "92/92 [==============================] - 58s 638ms/step - loss: 0.6897 - iou_score: 0.3382 - f1-score: 0.3993 - val_loss: 0.9387 - val_iou_score: 0.0174 - val_f1-score: 0.0295\n",
            "Epoch 3/100\n",
            "92/92 [==============================] - ETA: 0s - loss: 0.6211 - iou_score: 0.3941 - f1-score: 0.4561\n",
            "Epoch 3: val_loss improved from 0.93867 to 0.90141, saving model to /content/drive/MyDrive/cv_bootcamp_indonesiaai/project_3/models/resnet50_unet_segmentation_comb_losses\n",
            "92/92 [==============================] - 60s 658ms/step - loss: 0.6211 - iou_score: 0.3941 - f1-score: 0.4561 - val_loss: 0.9014 - val_iou_score: 0.0647 - val_f1-score: 0.0987\n",
            "Epoch 4/100\n",
            "92/92 [==============================] - ETA: 0s - loss: 0.5796 - iou_score: 0.4234 - f1-score: 0.4828\n",
            "Epoch 4: val_loss improved from 0.90141 to 0.87997, saving model to /content/drive/MyDrive/cv_bootcamp_indonesiaai/project_3/models/resnet50_unet_segmentation_comb_losses\n",
            "92/92 [==============================] - 58s 635ms/step - loss: 0.5796 - iou_score: 0.4234 - f1-score: 0.4828 - val_loss: 0.8800 - val_iou_score: 0.1014 - val_f1-score: 0.1274\n",
            "Epoch 5/100\n",
            "92/92 [==============================] - ETA: 0s - loss: 0.5459 - iou_score: 0.4445 - f1-score: 0.5003\n",
            "Epoch 5: val_loss did not improve from 0.87997\n",
            "92/92 [==============================] - 14s 157ms/step - loss: 0.5459 - iou_score: 0.4445 - f1-score: 0.5003 - val_loss: 0.8830 - val_iou_score: 0.1048 - val_f1-score: 0.1454\n",
            "Epoch 6/100\n",
            "92/92 [==============================] - ETA: 0s - loss: 0.5103 - iou_score: 0.4685 - f1-score: 0.5307\n",
            "Epoch 6: val_loss improved from 0.87997 to 0.83731, saving model to /content/drive/MyDrive/cv_bootcamp_indonesiaai/project_3/models/resnet50_unet_segmentation_comb_losses\n",
            "92/92 [==============================] - 58s 639ms/step - loss: 0.5103 - iou_score: 0.4685 - f1-score: 0.5307 - val_loss: 0.8373 - val_iou_score: 0.1365 - val_f1-score: 0.1861\n",
            "Epoch 7/100\n",
            "92/92 [==============================] - ETA: 0s - loss: 0.4916 - iou_score: 0.4751 - f1-score: 0.5379\n",
            "Epoch 7: val_loss improved from 0.83731 to 0.83507, saving model to /content/drive/MyDrive/cv_bootcamp_indonesiaai/project_3/models/resnet50_unet_segmentation_comb_losses\n",
            "92/92 [==============================] - 66s 728ms/step - loss: 0.4916 - iou_score: 0.4751 - f1-score: 0.5379 - val_loss: 0.8351 - val_iou_score: 0.1558 - val_f1-score: 0.1985\n",
            "Epoch 8/100\n",
            "92/92 [==============================] - ETA: 0s - loss: 0.4589 - iou_score: 0.5113 - f1-score: 0.5832\n",
            "Epoch 8: val_loss improved from 0.83507 to 0.79858, saving model to /content/drive/MyDrive/cv_bootcamp_indonesiaai/project_3/models/resnet50_unet_segmentation_comb_losses\n",
            "92/92 [==============================] - 60s 656ms/step - loss: 0.4589 - iou_score: 0.5113 - f1-score: 0.5832 - val_loss: 0.7986 - val_iou_score: 0.1837 - val_f1-score: 0.2439\n",
            "Epoch 9/100\n",
            "92/92 [==============================] - ETA: 0s - loss: 0.4261 - iou_score: 0.5367 - f1-score: 0.6180\n",
            "Epoch 9: val_loss improved from 0.79858 to 0.54273, saving model to /content/drive/MyDrive/cv_bootcamp_indonesiaai/project_3/models/resnet50_unet_segmentation_comb_losses\n",
            "92/92 [==============================] - 62s 680ms/step - loss: 0.4261 - iou_score: 0.5367 - f1-score: 0.6180 - val_loss: 0.5427 - val_iou_score: 0.4172 - val_f1-score: 0.4904\n",
            "Epoch 10/100\n",
            "92/92 [==============================] - ETA: 0s - loss: 0.4036 - iou_score: 0.5529 - f1-score: 0.6358\n",
            "Epoch 10: val_loss improved from 0.54273 to 0.50945, saving model to /content/drive/MyDrive/cv_bootcamp_indonesiaai/project_3/models/resnet50_unet_segmentation_comb_losses\n",
            "92/92 [==============================] - 60s 661ms/step - loss: 0.4036 - iou_score: 0.5529 - f1-score: 0.6358 - val_loss: 0.5094 - val_iou_score: 0.4433 - val_f1-score: 0.5142\n",
            "Epoch 11/100\n",
            "92/92 [==============================] - ETA: 0s - loss: 0.3702 - iou_score: 0.5845 - f1-score: 0.6768\n",
            "Epoch 11: val_loss improved from 0.50945 to 0.40038, saving model to /content/drive/MyDrive/cv_bootcamp_indonesiaai/project_3/models/resnet50_unet_segmentation_comb_losses\n",
            "92/92 [==============================] - 63s 690ms/step - loss: 0.3702 - iou_score: 0.5845 - f1-score: 0.6768 - val_loss: 0.4004 - val_iou_score: 0.5503 - val_f1-score: 0.6300\n",
            "Epoch 12/100\n",
            "92/92 [==============================] - ETA: 0s - loss: 0.3413 - iou_score: 0.6083 - f1-score: 0.6993\n",
            "Epoch 12: val_loss improved from 0.40038 to 0.37297, saving model to /content/drive/MyDrive/cv_bootcamp_indonesiaai/project_3/models/resnet50_unet_segmentation_comb_losses\n",
            "92/92 [==============================] - 57s 621ms/step - loss: 0.3413 - iou_score: 0.6083 - f1-score: 0.6993 - val_loss: 0.3730 - val_iou_score: 0.5655 - val_f1-score: 0.6550\n",
            "Epoch 13/100\n",
            "92/92 [==============================] - ETA: 0s - loss: 0.3237 - iou_score: 0.6186 - f1-score: 0.7084\n",
            "Epoch 13: val_loss improved from 0.37297 to 0.36541, saving model to /content/drive/MyDrive/cv_bootcamp_indonesiaai/project_3/models/resnet50_unet_segmentation_comb_losses\n",
            "92/92 [==============================] - 56s 616ms/step - loss: 0.3237 - iou_score: 0.6186 - f1-score: 0.7084 - val_loss: 0.3654 - val_iou_score: 0.5682 - val_f1-score: 0.6584\n",
            "Epoch 14/100\n",
            "92/92 [==============================] - ETA: 0s - loss: 0.3119 - iou_score: 0.6265 - f1-score: 0.7167\n",
            "Epoch 14: val_loss improved from 0.36541 to 0.33841, saving model to /content/drive/MyDrive/cv_bootcamp_indonesiaai/project_3/models/resnet50_unet_segmentation_comb_losses\n",
            "92/92 [==============================] - 62s 675ms/step - loss: 0.3119 - iou_score: 0.6265 - f1-score: 0.7167 - val_loss: 0.3384 - val_iou_score: 0.5897 - val_f1-score: 0.6837\n",
            "Epoch 15/100\n",
            "92/92 [==============================] - ETA: 0s - loss: 0.2956 - iou_score: 0.6429 - f1-score: 0.7342\n",
            "Epoch 15: val_loss did not improve from 0.33841\n",
            "92/92 [==============================] - 14s 154ms/step - loss: 0.2956 - iou_score: 0.6429 - f1-score: 0.7342 - val_loss: 0.3395 - val_iou_score: 0.5923 - val_f1-score: 0.6799\n",
            "Epoch 16/100\n",
            "92/92 [==============================] - ETA: 0s - loss: 0.2765 - iou_score: 0.6631 - f1-score: 0.7546\n",
            "Epoch 16: val_loss improved from 0.33841 to 0.29838, saving model to /content/drive/MyDrive/cv_bootcamp_indonesiaai/project_3/models/resnet50_unet_segmentation_comb_losses\n",
            "92/92 [==============================] - 61s 666ms/step - loss: 0.2765 - iou_score: 0.6631 - f1-score: 0.7546 - val_loss: 0.2984 - val_iou_score: 0.6296 - val_f1-score: 0.7198\n",
            "Epoch 17/100\n",
            "92/92 [==============================] - ETA: 0s - loss: 0.2636 - iou_score: 0.6704 - f1-score: 0.7618\n",
            "Epoch 17: val_loss did not improve from 0.29838\n",
            "92/92 [==============================] - 14s 155ms/step - loss: 0.2636 - iou_score: 0.6704 - f1-score: 0.7618 - val_loss: 0.3009 - val_iou_score: 0.6268 - val_f1-score: 0.7163\n",
            "Epoch 18/100\n",
            "92/92 [==============================] - ETA: 0s - loss: 0.2588 - iou_score: 0.6757 - f1-score: 0.7669\n",
            "Epoch 18: val_loss did not improve from 0.29838\n",
            "92/92 [==============================] - 14s 152ms/step - loss: 0.2588 - iou_score: 0.6757 - f1-score: 0.7669 - val_loss: 0.3646 - val_iou_score: 0.5609 - val_f1-score: 0.6496\n",
            "Epoch 19/100\n",
            "92/92 [==============================] - ETA: 0s - loss: 0.2598 - iou_score: 0.6738 - f1-score: 0.7657\n",
            "Epoch 19: val_loss did not improve from 0.29838\n",
            "92/92 [==============================] - 14s 153ms/step - loss: 0.2598 - iou_score: 0.6738 - f1-score: 0.7657 - val_loss: 0.3366 - val_iou_score: 0.5903 - val_f1-score: 0.6792\n",
            "Epoch 20/100\n",
            "92/92 [==============================] - ETA: 0s - loss: 0.2421 - iou_score: 0.6910 - f1-score: 0.7828\n",
            "Epoch 20: val_loss did not improve from 0.29838\n",
            "92/92 [==============================] - 14s 155ms/step - loss: 0.2421 - iou_score: 0.6910 - f1-score: 0.7828 - val_loss: 0.3092 - val_iou_score: 0.6149 - val_f1-score: 0.7066\n",
            "Epoch 21/100\n",
            "92/92 [==============================] - ETA: 0s - loss: 0.2388 - iou_score: 0.6953 - f1-score: 0.7873\n",
            "Epoch 21: val_loss did not improve from 0.29838\n",
            "92/92 [==============================] - 15s 158ms/step - loss: 0.2388 - iou_score: 0.6953 - f1-score: 0.7873 - val_loss: 0.3121 - val_iou_score: 0.6118 - val_f1-score: 0.7016\n",
            "Epoch 22/100\n",
            "92/92 [==============================] - ETA: 0s - loss: 0.2335 - iou_score: 0.7004 - f1-score: 0.7912\n",
            "Epoch 22: val_loss did not improve from 0.29838\n",
            "92/92 [==============================] - 15s 159ms/step - loss: 0.2335 - iou_score: 0.7004 - f1-score: 0.7912 - val_loss: 0.3132 - val_iou_score: 0.6066 - val_f1-score: 0.7011\n",
            "Epoch 23/100\n",
            "92/92 [==============================] - ETA: 0s - loss: 0.2180 - iou_score: 0.7149 - f1-score: 0.8056\n",
            "Epoch 23: val_loss did not improve from 0.29838\n",
            "92/92 [==============================] - 15s 161ms/step - loss: 0.2180 - iou_score: 0.7149 - f1-score: 0.8056 - val_loss: 0.3244 - val_iou_score: 0.5980 - val_f1-score: 0.6911\n",
            "Epoch 24/100\n",
            "92/92 [==============================] - ETA: 0s - loss: 0.2101 - iou_score: 0.7206 - f1-score: 0.8118\n",
            "Epoch 24: val_loss did not improve from 0.29838\n",
            "92/92 [==============================] - 15s 159ms/step - loss: 0.2101 - iou_score: 0.7206 - f1-score: 0.8118 - val_loss: 0.3090 - val_iou_score: 0.6109 - val_f1-score: 0.7054\n",
            "Epoch 25/100\n",
            "92/92 [==============================] - ETA: 0s - loss: 0.2146 - iou_score: 0.7209 - f1-score: 0.8108\n",
            "Epoch 25: val_loss improved from 0.29838 to 0.28941, saving model to /content/drive/MyDrive/cv_bootcamp_indonesiaai/project_3/models/resnet50_unet_segmentation_comb_losses\n",
            "92/92 [==============================] - 56s 617ms/step - loss: 0.2146 - iou_score: 0.7209 - f1-score: 0.8108 - val_loss: 0.2894 - val_iou_score: 0.6335 - val_f1-score: 0.7247\n",
            "Epoch 26/100\n",
            "92/92 [==============================] - ETA: 0s - loss: 0.2090 - iou_score: 0.7234 - f1-score: 0.8139\n",
            "Epoch 26: val_loss did not improve from 0.28941\n",
            "92/92 [==============================] - 16s 168ms/step - loss: 0.2090 - iou_score: 0.7234 - f1-score: 0.8139 - val_loss: 0.3255 - val_iou_score: 0.5958 - val_f1-score: 0.6888\n",
            "Epoch 27/100\n",
            "92/92 [==============================] - ETA: 0s - loss: 0.2044 - iou_score: 0.7294 - f1-score: 0.8187\n",
            "Epoch 27: val_loss did not improve from 0.28941\n",
            "92/92 [==============================] - 14s 156ms/step - loss: 0.2044 - iou_score: 0.7294 - f1-score: 0.8187 - val_loss: 0.3083 - val_iou_score: 0.6066 - val_f1-score: 0.7066\n",
            "Epoch 28/100\n",
            "92/92 [==============================] - ETA: 0s - loss: 0.1971 - iou_score: 0.7329 - f1-score: 0.8215\n",
            "Epoch 28: val_loss did not improve from 0.28941\n",
            "92/92 [==============================] - 15s 160ms/step - loss: 0.1971 - iou_score: 0.7329 - f1-score: 0.8215 - val_loss: 0.3144 - val_iou_score: 0.6030 - val_f1-score: 0.6991\n",
            "Epoch 29/100\n",
            "92/92 [==============================] - ETA: 0s - loss: 0.1970 - iou_score: 0.7356 - f1-score: 0.8242\n",
            "Epoch 29: val_loss did not improve from 0.28941\n",
            "92/92 [==============================] - 15s 160ms/step - loss: 0.1970 - iou_score: 0.7356 - f1-score: 0.8242 - val_loss: 0.3045 - val_iou_score: 0.6120 - val_f1-score: 0.7097\n",
            "Epoch 30/100\n",
            "92/92 [==============================] - ETA: 0s - loss: 0.1853 - iou_score: 0.7462 - f1-score: 0.8345\n",
            "Epoch 30: val_loss did not improve from 0.28941\n",
            "92/92 [==============================] - 15s 158ms/step - loss: 0.1853 - iou_score: 0.7462 - f1-score: 0.8345 - val_loss: 0.2962 - val_iou_score: 0.6207 - val_f1-score: 0.7177\n",
            "Epoch 31/100\n",
            "92/92 [==============================] - ETA: 0s - loss: 0.1885 - iou_score: 0.7457 - f1-score: 0.8329\n",
            "Epoch 31: val_loss did not improve from 0.28941\n",
            "92/92 [==============================] - 15s 158ms/step - loss: 0.1885 - iou_score: 0.7457 - f1-score: 0.8329 - val_loss: 0.2972 - val_iou_score: 0.6209 - val_f1-score: 0.7162\n",
            "Epoch 32/100\n",
            "92/92 [==============================] - ETA: 0s - loss: 0.1786 - iou_score: 0.7531 - f1-score: 0.8407\n",
            "Epoch 32: val_loss did not improve from 0.28941\n",
            "92/92 [==============================] - 15s 159ms/step - loss: 0.1786 - iou_score: 0.7531 - f1-score: 0.8407 - val_loss: 0.3026 - val_iou_score: 0.6177 - val_f1-score: 0.7099\n",
            "Epoch 33/100\n",
            "92/92 [==============================] - ETA: 0s - loss: 0.1717 - iou_score: 0.7576 - f1-score: 0.8432\n",
            "Epoch 33: val_loss did not improve from 0.28941\n",
            "92/92 [==============================] - 15s 159ms/step - loss: 0.1717 - iou_score: 0.7576 - f1-score: 0.8432 - val_loss: 0.3016 - val_iou_score: 0.6170 - val_f1-score: 0.7110\n",
            "Epoch 34/100\n",
            "92/92 [==============================] - ETA: 0s - loss: 0.1765 - iou_score: 0.7551 - f1-score: 0.8397\n",
            "Epoch 34: val_loss did not improve from 0.28941\n",
            "92/92 [==============================] - 15s 160ms/step - loss: 0.1765 - iou_score: 0.7551 - f1-score: 0.8397 - val_loss: 0.2947 - val_iou_score: 0.6229 - val_f1-score: 0.7185\n",
            "Epoch 35/100\n",
            "92/92 [==============================] - ETA: 0s - loss: 0.1815 - iou_score: 0.7563 - f1-score: 0.8408\n",
            "Epoch 35: val_loss did not improve from 0.28941\n",
            "92/92 [==============================] - 15s 160ms/step - loss: 0.1815 - iou_score: 0.7563 - f1-score: 0.8408 - val_loss: 0.2967 - val_iou_score: 0.6197 - val_f1-score: 0.7169\n"
          ]
        }
      ]
    },
    {
      "cell_type": "markdown",
      "source": [
        "### Evaluation"
      ],
      "metadata": {
        "id": "MTgc4Y4rcDy_"
      }
    },
    {
      "cell_type": "markdown",
      "source": [
        "Load trained model"
      ],
      "metadata": {
        "id": "ROpjnaLHpRai"
      }
    },
    {
      "cell_type": "code",
      "source": [
        "import tensorflow as tf"
      ],
      "metadata": {
        "id": "x_mrI-6LpiQ0"
      },
      "execution_count": 45,
      "outputs": []
    },
    {
      "cell_type": "code",
      "source": [
        "def load_model(model_path, custom_objects=None):\n",
        "    # Load the model\n",
        "    loaded_model = tf.keras.models.load_model(model_path, custom_objects=custom_objects)\n",
        "\n",
        "    # Display the model summary\n",
        "    loaded_model.summary()\n",
        "\n",
        "    return loaded_model"
      ],
      "metadata": {
        "id": "hSgchq6bpQbV"
      },
      "execution_count": 46,
      "outputs": []
    },
    {
      "cell_type": "code",
      "source": [
        "# Define custom objects for loading the model\n",
        "custom_objects = {\n",
        "    'dice_loss': sm.losses.DiceLoss(),\n",
        "    'iou_score': sm.metrics.IOUScore(threshold=0.5),\n",
        "    'f1-score': sm.metrics.FScore(threshold=0.5),\n",
        "}"
      ],
      "metadata": {
        "id": "D8xFDV9isLLt"
      },
      "execution_count": 47,
      "outputs": []
    },
    {
      "cell_type": "code",
      "source": [
        "unet_resnet50 = load_model(os.path.join(drive_model_path, 'resnet50_unet_segmentation'), custom_objects=custom_objects)"
      ],
      "metadata": {
        "colab": {
          "base_uri": "https://localhost:8080/"
        },
        "id": "nvDFIaQNpprk",
        "outputId": "9e60f9b1-6d6a-4ad4-fe89-af4dde14b81f"
      },
      "execution_count": 48,
      "outputs": [
        {
          "output_type": "stream",
          "name": "stdout",
          "text": [
            "Model: \"model_3\"\n",
            "__________________________________________________________________________________________________\n",
            " Layer (type)                Output Shape                 Param #   Connected to                  \n",
            "==================================================================================================\n",
            " data (InputLayer)           [(None, None, None, 3)]      0         []                            \n",
            "                                                                                                  \n",
            " bn_data (BatchNormalizatio  (None, None, None, 3)        9         ['data[0][0]']                \n",
            " n)                                                                                               \n",
            "                                                                                                  \n",
            " zero_padding2d_18 (ZeroPad  (None, None, None, 3)        0         ['bn_data[0][0]']             \n",
            " ding2D)                                                                                          \n",
            "                                                                                                  \n",
            " conv0 (Conv2D)              (None, None, None, 64)       9408      ['zero_padding2d_18[0][0]']   \n",
            "                                                                                                  \n",
            " bn0 (BatchNormalization)    (None, None, None, 64)       256       ['conv0[0][0]']               \n",
            "                                                                                                  \n",
            " relu0 (Activation)          (None, None, None, 64)       0         ['bn0[0][0]']                 \n",
            "                                                                                                  \n",
            " zero_padding2d_19 (ZeroPad  (None, None, None, 64)       0         ['relu0[0][0]']               \n",
            " ding2D)                                                                                          \n",
            "                                                                                                  \n",
            " pooling0 (MaxPooling2D)     (None, None, None, 64)       0         ['zero_padding2d_19[0][0]']   \n",
            "                                                                                                  \n",
            " stage1_unit1_bn1 (BatchNor  (None, None, None, 64)       256       ['pooling0[0][0]']            \n",
            " malization)                                                                                      \n",
            "                                                                                                  \n",
            " stage1_unit1_relu1 (Activa  (None, None, None, 64)       0         ['stage1_unit1_bn1[0][0]']    \n",
            " tion)                                                                                            \n",
            "                                                                                                  \n",
            " stage1_unit1_conv1 (Conv2D  (None, None, None, 64)       4096      ['stage1_unit1_relu1[0][0]']  \n",
            " )                                                                                                \n",
            "                                                                                                  \n",
            " stage1_unit1_bn2 (BatchNor  (None, None, None, 64)       256       ['stage1_unit1_conv1[0][0]']  \n",
            " malization)                                                                                      \n",
            "                                                                                                  \n",
            " stage1_unit1_relu2 (Activa  (None, None, None, 64)       0         ['stage1_unit1_bn2[0][0]']    \n",
            " tion)                                                                                            \n",
            "                                                                                                  \n",
            " zero_padding2d_20 (ZeroPad  (None, None, None, 64)       0         ['stage1_unit1_relu2[0][0]']  \n",
            " ding2D)                                                                                          \n",
            "                                                                                                  \n",
            " stage1_unit1_conv2 (Conv2D  (None, None, None, 64)       36864     ['zero_padding2d_20[0][0]']   \n",
            " )                                                                                                \n",
            "                                                                                                  \n",
            " stage1_unit1_bn3 (BatchNor  (None, None, None, 64)       256       ['stage1_unit1_conv2[0][0]']  \n",
            " malization)                                                                                      \n",
            "                                                                                                  \n",
            " stage1_unit1_relu3 (Activa  (None, None, None, 64)       0         ['stage1_unit1_bn3[0][0]']    \n",
            " tion)                                                                                            \n",
            "                                                                                                  \n",
            " stage1_unit1_conv3 (Conv2D  (None, None, None, 256)      16384     ['stage1_unit1_relu3[0][0]']  \n",
            " )                                                                                                \n",
            "                                                                                                  \n",
            " stage1_unit1_sc (Conv2D)    (None, None, None, 256)      16384     ['stage1_unit1_relu1[0][0]']  \n",
            "                                                                                                  \n",
            " add_16 (Add)                (None, None, None, 256)      0         ['stage1_unit1_conv3[0][0]',  \n",
            "                                                                     'stage1_unit1_sc[0][0]']     \n",
            "                                                                                                  \n",
            " stage1_unit2_bn1 (BatchNor  (None, None, None, 256)      1024      ['add_16[0][0]']              \n",
            " malization)                                                                                      \n",
            "                                                                                                  \n",
            " stage1_unit2_relu1 (Activa  (None, None, None, 256)      0         ['stage1_unit2_bn1[0][0]']    \n",
            " tion)                                                                                            \n",
            "                                                                                                  \n",
            " stage1_unit2_conv1 (Conv2D  (None, None, None, 64)       16384     ['stage1_unit2_relu1[0][0]']  \n",
            " )                                                                                                \n",
            "                                                                                                  \n",
            " stage1_unit2_bn2 (BatchNor  (None, None, None, 64)       256       ['stage1_unit2_conv1[0][0]']  \n",
            " malization)                                                                                      \n",
            "                                                                                                  \n",
            " stage1_unit2_relu2 (Activa  (None, None, None, 64)       0         ['stage1_unit2_bn2[0][0]']    \n",
            " tion)                                                                                            \n",
            "                                                                                                  \n",
            " zero_padding2d_21 (ZeroPad  (None, None, None, 64)       0         ['stage1_unit2_relu2[0][0]']  \n",
            " ding2D)                                                                                          \n",
            "                                                                                                  \n",
            " stage1_unit2_conv2 (Conv2D  (None, None, None, 64)       36864     ['zero_padding2d_21[0][0]']   \n",
            " )                                                                                                \n",
            "                                                                                                  \n",
            " stage1_unit2_bn3 (BatchNor  (None, None, None, 64)       256       ['stage1_unit2_conv2[0][0]']  \n",
            " malization)                                                                                      \n",
            "                                                                                                  \n",
            " stage1_unit2_relu3 (Activa  (None, None, None, 64)       0         ['stage1_unit2_bn3[0][0]']    \n",
            " tion)                                                                                            \n",
            "                                                                                                  \n",
            " stage1_unit2_conv3 (Conv2D  (None, None, None, 256)      16384     ['stage1_unit2_relu3[0][0]']  \n",
            " )                                                                                                \n",
            "                                                                                                  \n",
            " add_17 (Add)                (None, None, None, 256)      0         ['stage1_unit2_conv3[0][0]',  \n",
            "                                                                     'add_16[0][0]']              \n",
            "                                                                                                  \n",
            " stage1_unit3_bn1 (BatchNor  (None, None, None, 256)      1024      ['add_17[0][0]']              \n",
            " malization)                                                                                      \n",
            "                                                                                                  \n",
            " stage1_unit3_relu1 (Activa  (None, None, None, 256)      0         ['stage1_unit3_bn1[0][0]']    \n",
            " tion)                                                                                            \n",
            "                                                                                                  \n",
            " stage1_unit3_conv1 (Conv2D  (None, None, None, 64)       16384     ['stage1_unit3_relu1[0][0]']  \n",
            " )                                                                                                \n",
            "                                                                                                  \n",
            " stage1_unit3_bn2 (BatchNor  (None, None, None, 64)       256       ['stage1_unit3_conv1[0][0]']  \n",
            " malization)                                                                                      \n",
            "                                                                                                  \n",
            " stage1_unit3_relu2 (Activa  (None, None, None, 64)       0         ['stage1_unit3_bn2[0][0]']    \n",
            " tion)                                                                                            \n",
            "                                                                                                  \n",
            " zero_padding2d_22 (ZeroPad  (None, None, None, 64)       0         ['stage1_unit3_relu2[0][0]']  \n",
            " ding2D)                                                                                          \n",
            "                                                                                                  \n",
            " stage1_unit3_conv2 (Conv2D  (None, None, None, 64)       36864     ['zero_padding2d_22[0][0]']   \n",
            " )                                                                                                \n",
            "                                                                                                  \n",
            " stage1_unit3_bn3 (BatchNor  (None, None, None, 64)       256       ['stage1_unit3_conv2[0][0]']  \n",
            " malization)                                                                                      \n",
            "                                                                                                  \n",
            " stage1_unit3_relu3 (Activa  (None, None, None, 64)       0         ['stage1_unit3_bn3[0][0]']    \n",
            " tion)                                                                                            \n",
            "                                                                                                  \n",
            " stage1_unit3_conv3 (Conv2D  (None, None, None, 256)      16384     ['stage1_unit3_relu3[0][0]']  \n",
            " )                                                                                                \n",
            "                                                                                                  \n",
            " add_18 (Add)                (None, None, None, 256)      0         ['stage1_unit3_conv3[0][0]',  \n",
            "                                                                     'add_17[0][0]']              \n",
            "                                                                                                  \n",
            " stage2_unit1_bn1 (BatchNor  (None, None, None, 256)      1024      ['add_18[0][0]']              \n",
            " malization)                                                                                      \n",
            "                                                                                                  \n",
            " stage2_unit1_relu1 (Activa  (None, None, None, 256)      0         ['stage2_unit1_bn1[0][0]']    \n",
            " tion)                                                                                            \n",
            "                                                                                                  \n",
            " stage2_unit1_conv1 (Conv2D  (None, None, None, 128)      32768     ['stage2_unit1_relu1[0][0]']  \n",
            " )                                                                                                \n",
            "                                                                                                  \n",
            " stage2_unit1_bn2 (BatchNor  (None, None, None, 128)      512       ['stage2_unit1_conv1[0][0]']  \n",
            " malization)                                                                                      \n",
            "                                                                                                  \n",
            " stage2_unit1_relu2 (Activa  (None, None, None, 128)      0         ['stage2_unit1_bn2[0][0]']    \n",
            " tion)                                                                                            \n",
            "                                                                                                  \n",
            " zero_padding2d_23 (ZeroPad  (None, None, None, 128)      0         ['stage2_unit1_relu2[0][0]']  \n",
            " ding2D)                                                                                          \n",
            "                                                                                                  \n",
            " stage2_unit1_conv2 (Conv2D  (None, None, None, 128)      147456    ['zero_padding2d_23[0][0]']   \n",
            " )                                                                                                \n",
            "                                                                                                  \n",
            " stage2_unit1_bn3 (BatchNor  (None, None, None, 128)      512       ['stage2_unit1_conv2[0][0]']  \n",
            " malization)                                                                                      \n",
            "                                                                                                  \n",
            " stage2_unit1_relu3 (Activa  (None, None, None, 128)      0         ['stage2_unit1_bn3[0][0]']    \n",
            " tion)                                                                                            \n",
            "                                                                                                  \n",
            " stage2_unit1_conv3 (Conv2D  (None, None, None, 512)      65536     ['stage2_unit1_relu3[0][0]']  \n",
            " )                                                                                                \n",
            "                                                                                                  \n",
            " stage2_unit1_sc (Conv2D)    (None, None, None, 512)      131072    ['stage2_unit1_relu1[0][0]']  \n",
            "                                                                                                  \n",
            " add_19 (Add)                (None, None, None, 512)      0         ['stage2_unit1_conv3[0][0]',  \n",
            "                                                                     'stage2_unit1_sc[0][0]']     \n",
            "                                                                                                  \n",
            " stage2_unit2_bn1 (BatchNor  (None, None, None, 512)      2048      ['add_19[0][0]']              \n",
            " malization)                                                                                      \n",
            "                                                                                                  \n",
            " stage2_unit2_relu1 (Activa  (None, None, None, 512)      0         ['stage2_unit2_bn1[0][0]']    \n",
            " tion)                                                                                            \n",
            "                                                                                                  \n",
            " stage2_unit2_conv1 (Conv2D  (None, None, None, 128)      65536     ['stage2_unit2_relu1[0][0]']  \n",
            " )                                                                                                \n",
            "                                                                                                  \n",
            " stage2_unit2_bn2 (BatchNor  (None, None, None, 128)      512       ['stage2_unit2_conv1[0][0]']  \n",
            " malization)                                                                                      \n",
            "                                                                                                  \n",
            " stage2_unit2_relu2 (Activa  (None, None, None, 128)      0         ['stage2_unit2_bn2[0][0]']    \n",
            " tion)                                                                                            \n",
            "                                                                                                  \n",
            " zero_padding2d_24 (ZeroPad  (None, None, None, 128)      0         ['stage2_unit2_relu2[0][0]']  \n",
            " ding2D)                                                                                          \n",
            "                                                                                                  \n",
            " stage2_unit2_conv2 (Conv2D  (None, None, None, 128)      147456    ['zero_padding2d_24[0][0]']   \n",
            " )                                                                                                \n",
            "                                                                                                  \n",
            " stage2_unit2_bn3 (BatchNor  (None, None, None, 128)      512       ['stage2_unit2_conv2[0][0]']  \n",
            " malization)                                                                                      \n",
            "                                                                                                  \n",
            " stage2_unit2_relu3 (Activa  (None, None, None, 128)      0         ['stage2_unit2_bn3[0][0]']    \n",
            " tion)                                                                                            \n",
            "                                                                                                  \n",
            " stage2_unit2_conv3 (Conv2D  (None, None, None, 512)      65536     ['stage2_unit2_relu3[0][0]']  \n",
            " )                                                                                                \n",
            "                                                                                                  \n",
            " add_20 (Add)                (None, None, None, 512)      0         ['stage2_unit2_conv3[0][0]',  \n",
            "                                                                     'add_19[0][0]']              \n",
            "                                                                                                  \n",
            " stage2_unit3_bn1 (BatchNor  (None, None, None, 512)      2048      ['add_20[0][0]']              \n",
            " malization)                                                                                      \n",
            "                                                                                                  \n",
            " stage2_unit3_relu1 (Activa  (None, None, None, 512)      0         ['stage2_unit3_bn1[0][0]']    \n",
            " tion)                                                                                            \n",
            "                                                                                                  \n",
            " stage2_unit3_conv1 (Conv2D  (None, None, None, 128)      65536     ['stage2_unit3_relu1[0][0]']  \n",
            " )                                                                                                \n",
            "                                                                                                  \n",
            " stage2_unit3_bn2 (BatchNor  (None, None, None, 128)      512       ['stage2_unit3_conv1[0][0]']  \n",
            " malization)                                                                                      \n",
            "                                                                                                  \n",
            " stage2_unit3_relu2 (Activa  (None, None, None, 128)      0         ['stage2_unit3_bn2[0][0]']    \n",
            " tion)                                                                                            \n",
            "                                                                                                  \n",
            " zero_padding2d_25 (ZeroPad  (None, None, None, 128)      0         ['stage2_unit3_relu2[0][0]']  \n",
            " ding2D)                                                                                          \n",
            "                                                                                                  \n",
            " stage2_unit3_conv2 (Conv2D  (None, None, None, 128)      147456    ['zero_padding2d_25[0][0]']   \n",
            " )                                                                                                \n",
            "                                                                                                  \n",
            " stage2_unit3_bn3 (BatchNor  (None, None, None, 128)      512       ['stage2_unit3_conv2[0][0]']  \n",
            " malization)                                                                                      \n",
            "                                                                                                  \n",
            " stage2_unit3_relu3 (Activa  (None, None, None, 128)      0         ['stage2_unit3_bn3[0][0]']    \n",
            " tion)                                                                                            \n",
            "                                                                                                  \n",
            " stage2_unit3_conv3 (Conv2D  (None, None, None, 512)      65536     ['stage2_unit3_relu3[0][0]']  \n",
            " )                                                                                                \n",
            "                                                                                                  \n",
            " add_21 (Add)                (None, None, None, 512)      0         ['stage2_unit3_conv3[0][0]',  \n",
            "                                                                     'add_20[0][0]']              \n",
            "                                                                                                  \n",
            " stage2_unit4_bn1 (BatchNor  (None, None, None, 512)      2048      ['add_21[0][0]']              \n",
            " malization)                                                                                      \n",
            "                                                                                                  \n",
            " stage2_unit4_relu1 (Activa  (None, None, None, 512)      0         ['stage2_unit4_bn1[0][0]']    \n",
            " tion)                                                                                            \n",
            "                                                                                                  \n",
            " stage2_unit4_conv1 (Conv2D  (None, None, None, 128)      65536     ['stage2_unit4_relu1[0][0]']  \n",
            " )                                                                                                \n",
            "                                                                                                  \n",
            " stage2_unit4_bn2 (BatchNor  (None, None, None, 128)      512       ['stage2_unit4_conv1[0][0]']  \n",
            " malization)                                                                                      \n",
            "                                                                                                  \n",
            " stage2_unit4_relu2 (Activa  (None, None, None, 128)      0         ['stage2_unit4_bn2[0][0]']    \n",
            " tion)                                                                                            \n",
            "                                                                                                  \n",
            " zero_padding2d_26 (ZeroPad  (None, None, None, 128)      0         ['stage2_unit4_relu2[0][0]']  \n",
            " ding2D)                                                                                          \n",
            "                                                                                                  \n",
            " stage2_unit4_conv2 (Conv2D  (None, None, None, 128)      147456    ['zero_padding2d_26[0][0]']   \n",
            " )                                                                                                \n",
            "                                                                                                  \n",
            " stage2_unit4_bn3 (BatchNor  (None, None, None, 128)      512       ['stage2_unit4_conv2[0][0]']  \n",
            " malization)                                                                                      \n",
            "                                                                                                  \n",
            " stage2_unit4_relu3 (Activa  (None, None, None, 128)      0         ['stage2_unit4_bn3[0][0]']    \n",
            " tion)                                                                                            \n",
            "                                                                                                  \n",
            " stage2_unit4_conv3 (Conv2D  (None, None, None, 512)      65536     ['stage2_unit4_relu3[0][0]']  \n",
            " )                                                                                                \n",
            "                                                                                                  \n",
            " add_22 (Add)                (None, None, None, 512)      0         ['stage2_unit4_conv3[0][0]',  \n",
            "                                                                     'add_21[0][0]']              \n",
            "                                                                                                  \n",
            " stage3_unit1_bn1 (BatchNor  (None, None, None, 512)      2048      ['add_22[0][0]']              \n",
            " malization)                                                                                      \n",
            "                                                                                                  \n",
            " stage3_unit1_relu1 (Activa  (None, None, None, 512)      0         ['stage3_unit1_bn1[0][0]']    \n",
            " tion)                                                                                            \n",
            "                                                                                                  \n",
            " stage3_unit1_conv1 (Conv2D  (None, None, None, 256)      131072    ['stage3_unit1_relu1[0][0]']  \n",
            " )                                                                                                \n",
            "                                                                                                  \n",
            " stage3_unit1_bn2 (BatchNor  (None, None, None, 256)      1024      ['stage3_unit1_conv1[0][0]']  \n",
            " malization)                                                                                      \n",
            "                                                                                                  \n",
            " stage3_unit1_relu2 (Activa  (None, None, None, 256)      0         ['stage3_unit1_bn2[0][0]']    \n",
            " tion)                                                                                            \n",
            "                                                                                                  \n",
            " zero_padding2d_27 (ZeroPad  (None, None, None, 256)      0         ['stage3_unit1_relu2[0][0]']  \n",
            " ding2D)                                                                                          \n",
            "                                                                                                  \n",
            " stage3_unit1_conv2 (Conv2D  (None, None, None, 256)      589824    ['zero_padding2d_27[0][0]']   \n",
            " )                                                                                                \n",
            "                                                                                                  \n",
            " stage3_unit1_bn3 (BatchNor  (None, None, None, 256)      1024      ['stage3_unit1_conv2[0][0]']  \n",
            " malization)                                                                                      \n",
            "                                                                                                  \n",
            " stage3_unit1_relu3 (Activa  (None, None, None, 256)      0         ['stage3_unit1_bn3[0][0]']    \n",
            " tion)                                                                                            \n",
            "                                                                                                  \n",
            " stage3_unit1_conv3 (Conv2D  (None, None, None, 1024)     262144    ['stage3_unit1_relu3[0][0]']  \n",
            " )                                                                                                \n",
            "                                                                                                  \n",
            " stage3_unit1_sc (Conv2D)    (None, None, None, 1024)     524288    ['stage3_unit1_relu1[0][0]']  \n",
            "                                                                                                  \n",
            " add_23 (Add)                (None, None, None, 1024)     0         ['stage3_unit1_conv3[0][0]',  \n",
            "                                                                     'stage3_unit1_sc[0][0]']     \n",
            "                                                                                                  \n",
            " stage3_unit2_bn1 (BatchNor  (None, None, None, 1024)     4096      ['add_23[0][0]']              \n",
            " malization)                                                                                      \n",
            "                                                                                                  \n",
            " stage3_unit2_relu1 (Activa  (None, None, None, 1024)     0         ['stage3_unit2_bn1[0][0]']    \n",
            " tion)                                                                                            \n",
            "                                                                                                  \n",
            " stage3_unit2_conv1 (Conv2D  (None, None, None, 256)      262144    ['stage3_unit2_relu1[0][0]']  \n",
            " )                                                                                                \n",
            "                                                                                                  \n",
            " stage3_unit2_bn2 (BatchNor  (None, None, None, 256)      1024      ['stage3_unit2_conv1[0][0]']  \n",
            " malization)                                                                                      \n",
            "                                                                                                  \n",
            " stage3_unit2_relu2 (Activa  (None, None, None, 256)      0         ['stage3_unit2_bn2[0][0]']    \n",
            " tion)                                                                                            \n",
            "                                                                                                  \n",
            " zero_padding2d_28 (ZeroPad  (None, None, None, 256)      0         ['stage3_unit2_relu2[0][0]']  \n",
            " ding2D)                                                                                          \n",
            "                                                                                                  \n",
            " stage3_unit2_conv2 (Conv2D  (None, None, None, 256)      589824    ['zero_padding2d_28[0][0]']   \n",
            " )                                                                                                \n",
            "                                                                                                  \n",
            " stage3_unit2_bn3 (BatchNor  (None, None, None, 256)      1024      ['stage3_unit2_conv2[0][0]']  \n",
            " malization)                                                                                      \n",
            "                                                                                                  \n",
            " stage3_unit2_relu3 (Activa  (None, None, None, 256)      0         ['stage3_unit2_bn3[0][0]']    \n",
            " tion)                                                                                            \n",
            "                                                                                                  \n",
            " stage3_unit2_conv3 (Conv2D  (None, None, None, 1024)     262144    ['stage3_unit2_relu3[0][0]']  \n",
            " )                                                                                                \n",
            "                                                                                                  \n",
            " add_24 (Add)                (None, None, None, 1024)     0         ['stage3_unit2_conv3[0][0]',  \n",
            "                                                                     'add_23[0][0]']              \n",
            "                                                                                                  \n",
            " stage3_unit3_bn1 (BatchNor  (None, None, None, 1024)     4096      ['add_24[0][0]']              \n",
            " malization)                                                                                      \n",
            "                                                                                                  \n",
            " stage3_unit3_relu1 (Activa  (None, None, None, 1024)     0         ['stage3_unit3_bn1[0][0]']    \n",
            " tion)                                                                                            \n",
            "                                                                                                  \n",
            " stage3_unit3_conv1 (Conv2D  (None, None, None, 256)      262144    ['stage3_unit3_relu1[0][0]']  \n",
            " )                                                                                                \n",
            "                                                                                                  \n",
            " stage3_unit3_bn2 (BatchNor  (None, None, None, 256)      1024      ['stage3_unit3_conv1[0][0]']  \n",
            " malization)                                                                                      \n",
            "                                                                                                  \n",
            " stage3_unit3_relu2 (Activa  (None, None, None, 256)      0         ['stage3_unit3_bn2[0][0]']    \n",
            " tion)                                                                                            \n",
            "                                                                                                  \n",
            " zero_padding2d_29 (ZeroPad  (None, None, None, 256)      0         ['stage3_unit3_relu2[0][0]']  \n",
            " ding2D)                                                                                          \n",
            "                                                                                                  \n",
            " stage3_unit3_conv2 (Conv2D  (None, None, None, 256)      589824    ['zero_padding2d_29[0][0]']   \n",
            " )                                                                                                \n",
            "                                                                                                  \n",
            " stage3_unit3_bn3 (BatchNor  (None, None, None, 256)      1024      ['stage3_unit3_conv2[0][0]']  \n",
            " malization)                                                                                      \n",
            "                                                                                                  \n",
            " stage3_unit3_relu3 (Activa  (None, None, None, 256)      0         ['stage3_unit3_bn3[0][0]']    \n",
            " tion)                                                                                            \n",
            "                                                                                                  \n",
            " stage3_unit3_conv3 (Conv2D  (None, None, None, 1024)     262144    ['stage3_unit3_relu3[0][0]']  \n",
            " )                                                                                                \n",
            "                                                                                                  \n",
            " add_25 (Add)                (None, None, None, 1024)     0         ['stage3_unit3_conv3[0][0]',  \n",
            "                                                                     'add_24[0][0]']              \n",
            "                                                                                                  \n",
            " stage3_unit4_bn1 (BatchNor  (None, None, None, 1024)     4096      ['add_25[0][0]']              \n",
            " malization)                                                                                      \n",
            "                                                                                                  \n",
            " stage3_unit4_relu1 (Activa  (None, None, None, 1024)     0         ['stage3_unit4_bn1[0][0]']    \n",
            " tion)                                                                                            \n",
            "                                                                                                  \n",
            " stage3_unit4_conv1 (Conv2D  (None, None, None, 256)      262144    ['stage3_unit4_relu1[0][0]']  \n",
            " )                                                                                                \n",
            "                                                                                                  \n",
            " stage3_unit4_bn2 (BatchNor  (None, None, None, 256)      1024      ['stage3_unit4_conv1[0][0]']  \n",
            " malization)                                                                                      \n",
            "                                                                                                  \n",
            " stage3_unit4_relu2 (Activa  (None, None, None, 256)      0         ['stage3_unit4_bn2[0][0]']    \n",
            " tion)                                                                                            \n",
            "                                                                                                  \n",
            " zero_padding2d_30 (ZeroPad  (None, None, None, 256)      0         ['stage3_unit4_relu2[0][0]']  \n",
            " ding2D)                                                                                          \n",
            "                                                                                                  \n",
            " stage3_unit4_conv2 (Conv2D  (None, None, None, 256)      589824    ['zero_padding2d_30[0][0]']   \n",
            " )                                                                                                \n",
            "                                                                                                  \n",
            " stage3_unit4_bn3 (BatchNor  (None, None, None, 256)      1024      ['stage3_unit4_conv2[0][0]']  \n",
            " malization)                                                                                      \n",
            "                                                                                                  \n",
            " stage3_unit4_relu3 (Activa  (None, None, None, 256)      0         ['stage3_unit4_bn3[0][0]']    \n",
            " tion)                                                                                            \n",
            "                                                                                                  \n",
            " stage3_unit4_conv3 (Conv2D  (None, None, None, 1024)     262144    ['stage3_unit4_relu3[0][0]']  \n",
            " )                                                                                                \n",
            "                                                                                                  \n",
            " add_26 (Add)                (None, None, None, 1024)     0         ['stage3_unit4_conv3[0][0]',  \n",
            "                                                                     'add_25[0][0]']              \n",
            "                                                                                                  \n",
            " stage3_unit5_bn1 (BatchNor  (None, None, None, 1024)     4096      ['add_26[0][0]']              \n",
            " malization)                                                                                      \n",
            "                                                                                                  \n",
            " stage3_unit5_relu1 (Activa  (None, None, None, 1024)     0         ['stage3_unit5_bn1[0][0]']    \n",
            " tion)                                                                                            \n",
            "                                                                                                  \n",
            " stage3_unit5_conv1 (Conv2D  (None, None, None, 256)      262144    ['stage3_unit5_relu1[0][0]']  \n",
            " )                                                                                                \n",
            "                                                                                                  \n",
            " stage3_unit5_bn2 (BatchNor  (None, None, None, 256)      1024      ['stage3_unit5_conv1[0][0]']  \n",
            " malization)                                                                                      \n",
            "                                                                                                  \n",
            " stage3_unit5_relu2 (Activa  (None, None, None, 256)      0         ['stage3_unit5_bn2[0][0]']    \n",
            " tion)                                                                                            \n",
            "                                                                                                  \n",
            " zero_padding2d_31 (ZeroPad  (None, None, None, 256)      0         ['stage3_unit5_relu2[0][0]']  \n",
            " ding2D)                                                                                          \n",
            "                                                                                                  \n",
            " stage3_unit5_conv2 (Conv2D  (None, None, None, 256)      589824    ['zero_padding2d_31[0][0]']   \n",
            " )                                                                                                \n",
            "                                                                                                  \n",
            " stage3_unit5_bn3 (BatchNor  (None, None, None, 256)      1024      ['stage3_unit5_conv2[0][0]']  \n",
            " malization)                                                                                      \n",
            "                                                                                                  \n",
            " stage3_unit5_relu3 (Activa  (None, None, None, 256)      0         ['stage3_unit5_bn3[0][0]']    \n",
            " tion)                                                                                            \n",
            "                                                                                                  \n",
            " stage3_unit5_conv3 (Conv2D  (None, None, None, 1024)     262144    ['stage3_unit5_relu3[0][0]']  \n",
            " )                                                                                                \n",
            "                                                                                                  \n",
            " add_27 (Add)                (None, None, None, 1024)     0         ['stage3_unit5_conv3[0][0]',  \n",
            "                                                                     'add_26[0][0]']              \n",
            "                                                                                                  \n",
            " stage3_unit6_bn1 (BatchNor  (None, None, None, 1024)     4096      ['add_27[0][0]']              \n",
            " malization)                                                                                      \n",
            "                                                                                                  \n",
            " stage3_unit6_relu1 (Activa  (None, None, None, 1024)     0         ['stage3_unit6_bn1[0][0]']    \n",
            " tion)                                                                                            \n",
            "                                                                                                  \n",
            " stage3_unit6_conv1 (Conv2D  (None, None, None, 256)      262144    ['stage3_unit6_relu1[0][0]']  \n",
            " )                                                                                                \n",
            "                                                                                                  \n",
            " stage3_unit6_bn2 (BatchNor  (None, None, None, 256)      1024      ['stage3_unit6_conv1[0][0]']  \n",
            " malization)                                                                                      \n",
            "                                                                                                  \n",
            " stage3_unit6_relu2 (Activa  (None, None, None, 256)      0         ['stage3_unit6_bn2[0][0]']    \n",
            " tion)                                                                                            \n",
            "                                                                                                  \n",
            " zero_padding2d_32 (ZeroPad  (None, None, None, 256)      0         ['stage3_unit6_relu2[0][0]']  \n",
            " ding2D)                                                                                          \n",
            "                                                                                                  \n",
            " stage3_unit6_conv2 (Conv2D  (None, None, None, 256)      589824    ['zero_padding2d_32[0][0]']   \n",
            " )                                                                                                \n",
            "                                                                                                  \n",
            " stage3_unit6_bn3 (BatchNor  (None, None, None, 256)      1024      ['stage3_unit6_conv2[0][0]']  \n",
            " malization)                                                                                      \n",
            "                                                                                                  \n",
            " stage3_unit6_relu3 (Activa  (None, None, None, 256)      0         ['stage3_unit6_bn3[0][0]']    \n",
            " tion)                                                                                            \n",
            "                                                                                                  \n",
            " stage3_unit6_conv3 (Conv2D  (None, None, None, 1024)     262144    ['stage3_unit6_relu3[0][0]']  \n",
            " )                                                                                                \n",
            "                                                                                                  \n",
            " add_28 (Add)                (None, None, None, 1024)     0         ['stage3_unit6_conv3[0][0]',  \n",
            "                                                                     'add_27[0][0]']              \n",
            "                                                                                                  \n",
            " stage4_unit1_bn1 (BatchNor  (None, None, None, 1024)     4096      ['add_28[0][0]']              \n",
            " malization)                                                                                      \n",
            "                                                                                                  \n",
            " stage4_unit1_relu1 (Activa  (None, None, None, 1024)     0         ['stage4_unit1_bn1[0][0]']    \n",
            " tion)                                                                                            \n",
            "                                                                                                  \n",
            " stage4_unit1_conv1 (Conv2D  (None, None, None, 512)      524288    ['stage4_unit1_relu1[0][0]']  \n",
            " )                                                                                                \n",
            "                                                                                                  \n",
            " stage4_unit1_bn2 (BatchNor  (None, None, None, 512)      2048      ['stage4_unit1_conv1[0][0]']  \n",
            " malization)                                                                                      \n",
            "                                                                                                  \n",
            " stage4_unit1_relu2 (Activa  (None, None, None, 512)      0         ['stage4_unit1_bn2[0][0]']    \n",
            " tion)                                                                                            \n",
            "                                                                                                  \n",
            " zero_padding2d_33 (ZeroPad  (None, None, None, 512)      0         ['stage4_unit1_relu2[0][0]']  \n",
            " ding2D)                                                                                          \n",
            "                                                                                                  \n",
            " stage4_unit1_conv2 (Conv2D  (None, None, None, 512)      2359296   ['zero_padding2d_33[0][0]']   \n",
            " )                                                                                                \n",
            "                                                                                                  \n",
            " stage4_unit1_bn3 (BatchNor  (None, None, None, 512)      2048      ['stage4_unit1_conv2[0][0]']  \n",
            " malization)                                                                                      \n",
            "                                                                                                  \n",
            " stage4_unit1_relu3 (Activa  (None, None, None, 512)      0         ['stage4_unit1_bn3[0][0]']    \n",
            " tion)                                                                                            \n",
            "                                                                                                  \n",
            " stage4_unit1_conv3 (Conv2D  (None, None, None, 2048)     1048576   ['stage4_unit1_relu3[0][0]']  \n",
            " )                                                                                                \n",
            "                                                                                                  \n",
            " stage4_unit1_sc (Conv2D)    (None, None, None, 2048)     2097152   ['stage4_unit1_relu1[0][0]']  \n",
            "                                                                                                  \n",
            " add_29 (Add)                (None, None, None, 2048)     0         ['stage4_unit1_conv3[0][0]',  \n",
            "                                                                     'stage4_unit1_sc[0][0]']     \n",
            "                                                                                                  \n",
            " stage4_unit2_bn1 (BatchNor  (None, None, None, 2048)     8192      ['add_29[0][0]']              \n",
            " malization)                                                                                      \n",
            "                                                                                                  \n",
            " stage4_unit2_relu1 (Activa  (None, None, None, 2048)     0         ['stage4_unit2_bn1[0][0]']    \n",
            " tion)                                                                                            \n",
            "                                                                                                  \n",
            " stage4_unit2_conv1 (Conv2D  (None, None, None, 512)      1048576   ['stage4_unit2_relu1[0][0]']  \n",
            " )                                                                                                \n",
            "                                                                                                  \n",
            " stage4_unit2_bn2 (BatchNor  (None, None, None, 512)      2048      ['stage4_unit2_conv1[0][0]']  \n",
            " malization)                                                                                      \n",
            "                                                                                                  \n",
            " stage4_unit2_relu2 (Activa  (None, None, None, 512)      0         ['stage4_unit2_bn2[0][0]']    \n",
            " tion)                                                                                            \n",
            "                                                                                                  \n",
            " zero_padding2d_34 (ZeroPad  (None, None, None, 512)      0         ['stage4_unit2_relu2[0][0]']  \n",
            " ding2D)                                                                                          \n",
            "                                                                                                  \n",
            " stage4_unit2_conv2 (Conv2D  (None, None, None, 512)      2359296   ['zero_padding2d_34[0][0]']   \n",
            " )                                                                                                \n",
            "                                                                                                  \n",
            " stage4_unit2_bn3 (BatchNor  (None, None, None, 512)      2048      ['stage4_unit2_conv2[0][0]']  \n",
            " malization)                                                                                      \n",
            "                                                                                                  \n",
            " stage4_unit2_relu3 (Activa  (None, None, None, 512)      0         ['stage4_unit2_bn3[0][0]']    \n",
            " tion)                                                                                            \n",
            "                                                                                                  \n",
            " stage4_unit2_conv3 (Conv2D  (None, None, None, 2048)     1048576   ['stage4_unit2_relu3[0][0]']  \n",
            " )                                                                                                \n",
            "                                                                                                  \n",
            " add_30 (Add)                (None, None, None, 2048)     0         ['stage4_unit2_conv3[0][0]',  \n",
            "                                                                     'add_29[0][0]']              \n",
            "                                                                                                  \n",
            " stage4_unit3_bn1 (BatchNor  (None, None, None, 2048)     8192      ['add_30[0][0]']              \n",
            " malization)                                                                                      \n",
            "                                                                                                  \n",
            " stage4_unit3_relu1 (Activa  (None, None, None, 2048)     0         ['stage4_unit3_bn1[0][0]']    \n",
            " tion)                                                                                            \n",
            "                                                                                                  \n",
            " stage4_unit3_conv1 (Conv2D  (None, None, None, 512)      1048576   ['stage4_unit3_relu1[0][0]']  \n",
            " )                                                                                                \n",
            "                                                                                                  \n",
            " stage4_unit3_bn2 (BatchNor  (None, None, None, 512)      2048      ['stage4_unit3_conv1[0][0]']  \n",
            " malization)                                                                                      \n",
            "                                                                                                  \n",
            " stage4_unit3_relu2 (Activa  (None, None, None, 512)      0         ['stage4_unit3_bn2[0][0]']    \n",
            " tion)                                                                                            \n",
            "                                                                                                  \n",
            " zero_padding2d_35 (ZeroPad  (None, None, None, 512)      0         ['stage4_unit3_relu2[0][0]']  \n",
            " ding2D)                                                                                          \n",
            "                                                                                                  \n",
            " stage4_unit3_conv2 (Conv2D  (None, None, None, 512)      2359296   ['zero_padding2d_35[0][0]']   \n",
            " )                                                                                                \n",
            "                                                                                                  \n",
            " stage4_unit3_bn3 (BatchNor  (None, None, None, 512)      2048      ['stage4_unit3_conv2[0][0]']  \n",
            " malization)                                                                                      \n",
            "                                                                                                  \n",
            " stage4_unit3_relu3 (Activa  (None, None, None, 512)      0         ['stage4_unit3_bn3[0][0]']    \n",
            " tion)                                                                                            \n",
            "                                                                                                  \n",
            " stage4_unit3_conv3 (Conv2D  (None, None, None, 2048)     1048576   ['stage4_unit3_relu3[0][0]']  \n",
            " )                                                                                                \n",
            "                                                                                                  \n",
            " add_31 (Add)                (None, None, None, 2048)     0         ['stage4_unit3_conv3[0][0]',  \n",
            "                                                                     'add_30[0][0]']              \n",
            "                                                                                                  \n",
            " bn1 (BatchNormalization)    (None, None, None, 2048)     8192      ['add_31[0][0]']              \n",
            "                                                                                                  \n",
            " relu1 (Activation)          (None, None, None, 2048)     0         ['bn1[0][0]']                 \n",
            "                                                                                                  \n",
            " decoder_stage0_upsampling   (None, None, None, 2048)     0         ['relu1[0][0]']               \n",
            " (UpSampling2D)                                                                                   \n",
            "                                                                                                  \n",
            " decoder_stage0_concat (Con  (None, None, None, 3072)     0         ['decoder_stage0_upsampling[0]\n",
            " catenate)                                                          [0]',                         \n",
            "                                                                     'stage4_unit1_relu1[0][0]']  \n",
            "                                                                                                  \n",
            " decoder_stage0a_conv (Conv  (None, None, None, 256)      7077888   ['decoder_stage0_concat[0][0]'\n",
            " 2D)                                                                ]                             \n",
            "                                                                                                  \n",
            " decoder_stage0a_bn (BatchN  (None, None, None, 256)      1024      ['decoder_stage0a_conv[0][0]']\n",
            " ormalization)                                                                                    \n",
            "                                                                                                  \n",
            " decoder_stage0a_relu (Acti  (None, None, None, 256)      0         ['decoder_stage0a_bn[0][0]']  \n",
            " vation)                                                                                          \n",
            "                                                                                                  \n",
            " decoder_stage0b_conv (Conv  (None, None, None, 256)      589824    ['decoder_stage0a_relu[0][0]']\n",
            " 2D)                                                                                              \n",
            "                                                                                                  \n",
            " decoder_stage0b_bn (BatchN  (None, None, None, 256)      1024      ['decoder_stage0b_conv[0][0]']\n",
            " ormalization)                                                                                    \n",
            "                                                                                                  \n",
            " decoder_stage0b_relu (Acti  (None, None, None, 256)      0         ['decoder_stage0b_bn[0][0]']  \n",
            " vation)                                                                                          \n",
            "                                                                                                  \n",
            " decoder_stage1_upsampling   (None, None, None, 256)      0         ['decoder_stage0b_relu[0][0]']\n",
            " (UpSampling2D)                                                                                   \n",
            "                                                                                                  \n",
            " decoder_stage1_concat (Con  (None, None, None, 768)      0         ['decoder_stage1_upsampling[0]\n",
            " catenate)                                                          [0]',                         \n",
            "                                                                     'stage3_unit1_relu1[0][0]']  \n",
            "                                                                                                  \n",
            " decoder_stage1a_conv (Conv  (None, None, None, 128)      884736    ['decoder_stage1_concat[0][0]'\n",
            " 2D)                                                                ]                             \n",
            "                                                                                                  \n",
            " decoder_stage1a_bn (BatchN  (None, None, None, 128)      512       ['decoder_stage1a_conv[0][0]']\n",
            " ormalization)                                                                                    \n",
            "                                                                                                  \n",
            " decoder_stage1a_relu (Acti  (None, None, None, 128)      0         ['decoder_stage1a_bn[0][0]']  \n",
            " vation)                                                                                          \n",
            "                                                                                                  \n",
            " decoder_stage1b_conv (Conv  (None, None, None, 128)      147456    ['decoder_stage1a_relu[0][0]']\n",
            " 2D)                                                                                              \n",
            "                                                                                                  \n",
            " decoder_stage1b_bn (BatchN  (None, None, None, 128)      512       ['decoder_stage1b_conv[0][0]']\n",
            " ormalization)                                                                                    \n",
            "                                                                                                  \n",
            " decoder_stage1b_relu (Acti  (None, None, None, 128)      0         ['decoder_stage1b_bn[0][0]']  \n",
            " vation)                                                                                          \n",
            "                                                                                                  \n",
            " decoder_stage2_upsampling   (None, None, None, 128)      0         ['decoder_stage1b_relu[0][0]']\n",
            " (UpSampling2D)                                                                                   \n",
            "                                                                                                  \n",
            " decoder_stage2_concat (Con  (None, None, None, 384)      0         ['decoder_stage2_upsampling[0]\n",
            " catenate)                                                          [0]',                         \n",
            "                                                                     'stage2_unit1_relu1[0][0]']  \n",
            "                                                                                                  \n",
            " decoder_stage2a_conv (Conv  (None, None, None, 64)       221184    ['decoder_stage2_concat[0][0]'\n",
            " 2D)                                                                ]                             \n",
            "                                                                                                  \n",
            " decoder_stage2a_bn (BatchN  (None, None, None, 64)       256       ['decoder_stage2a_conv[0][0]']\n",
            " ormalization)                                                                                    \n",
            "                                                                                                  \n",
            " decoder_stage2a_relu (Acti  (None, None, None, 64)       0         ['decoder_stage2a_bn[0][0]']  \n",
            " vation)                                                                                          \n",
            "                                                                                                  \n",
            " decoder_stage2b_conv (Conv  (None, None, None, 64)       36864     ['decoder_stage2a_relu[0][0]']\n",
            " 2D)                                                                                              \n",
            "                                                                                                  \n",
            " decoder_stage2b_bn (BatchN  (None, None, None, 64)       256       ['decoder_stage2b_conv[0][0]']\n",
            " ormalization)                                                                                    \n",
            "                                                                                                  \n",
            " decoder_stage2b_relu (Acti  (None, None, None, 64)       0         ['decoder_stage2b_bn[0][0]']  \n",
            " vation)                                                                                          \n",
            "                                                                                                  \n",
            " decoder_stage3_upsampling   (None, None, None, 64)       0         ['decoder_stage2b_relu[0][0]']\n",
            " (UpSampling2D)                                                                                   \n",
            "                                                                                                  \n",
            " decoder_stage3_concat (Con  (None, None, None, 128)      0         ['decoder_stage3_upsampling[0]\n",
            " catenate)                                                          [0]',                         \n",
            "                                                                     'relu0[0][0]']               \n",
            "                                                                                                  \n",
            " decoder_stage3a_conv (Conv  (None, None, None, 32)       36864     ['decoder_stage3_concat[0][0]'\n",
            " 2D)                                                                ]                             \n",
            "                                                                                                  \n",
            " decoder_stage3a_bn (BatchN  (None, None, None, 32)       128       ['decoder_stage3a_conv[0][0]']\n",
            " ormalization)                                                                                    \n",
            "                                                                                                  \n",
            " decoder_stage3a_relu (Acti  (None, None, None, 32)       0         ['decoder_stage3a_bn[0][0]']  \n",
            " vation)                                                                                          \n",
            "                                                                                                  \n",
            " decoder_stage3b_conv (Conv  (None, None, None, 32)       9216      ['decoder_stage3a_relu[0][0]']\n",
            " 2D)                                                                                              \n",
            "                                                                                                  \n",
            " decoder_stage3b_bn (BatchN  (None, None, None, 32)       128       ['decoder_stage3b_conv[0][0]']\n",
            " ormalization)                                                                                    \n",
            "                                                                                                  \n",
            " decoder_stage3b_relu (Acti  (None, None, None, 32)       0         ['decoder_stage3b_bn[0][0]']  \n",
            " vation)                                                                                          \n",
            "                                                                                                  \n",
            " decoder_stage4_upsampling   (None, None, None, 32)       0         ['decoder_stage3b_relu[0][0]']\n",
            " (UpSampling2D)                                                                                   \n",
            "                                                                                                  \n",
            " decoder_stage4a_conv (Conv  (None, None, None, 16)       4608      ['decoder_stage4_upsampling[0]\n",
            " 2D)                                                                [0]']                         \n",
            "                                                                                                  \n",
            " decoder_stage4a_bn (BatchN  (None, None, None, 16)       64        ['decoder_stage4a_conv[0][0]']\n",
            " ormalization)                                                                                    \n",
            "                                                                                                  \n",
            " decoder_stage4a_relu (Acti  (None, None, None, 16)       0         ['decoder_stage4a_bn[0][0]']  \n",
            " vation)                                                                                          \n",
            "                                                                                                  \n",
            " decoder_stage4b_conv (Conv  (None, None, None, 16)       2304      ['decoder_stage4a_relu[0][0]']\n",
            " 2D)                                                                                              \n",
            "                                                                                                  \n",
            " decoder_stage4b_bn (BatchN  (None, None, None, 16)       64        ['decoder_stage4b_conv[0][0]']\n",
            " ormalization)                                                                                    \n",
            "                                                                                                  \n",
            " decoder_stage4b_relu (Acti  (None, None, None, 16)       0         ['decoder_stage4b_bn[0][0]']  \n",
            " vation)                                                                                          \n",
            "                                                                                                  \n",
            " final_conv (Conv2D)         (None, None, None, 12)       1740      ['decoder_stage4b_relu[0][0]']\n",
            "                                                                                                  \n",
            " softmax (Activation)        (None, None, None, 12)       0         ['final_conv[0][0]']          \n",
            "                                                                                                  \n",
            "==================================================================================================\n",
            "Total params: 32562709 (124.22 MB)\n",
            "Trainable params: 32515151 (124.04 MB)\n",
            "Non-trainable params: 47558 (185.77 KB)\n",
            "__________________________________________________________________________________________________\n"
          ]
        }
      ]
    },
    {
      "cell_type": "code",
      "source": [
        "unet_resnet50.evaluate(X_test, y_test_cat)"
      ],
      "metadata": {
        "colab": {
          "base_uri": "https://localhost:8080/"
        },
        "id": "BX0rKfHG9kEl",
        "outputId": "78bb8503-b5c4-4fc5-f466-35ac2e20bdb4"
      },
      "execution_count": 49,
      "outputs": [
        {
          "output_type": "stream",
          "name": "stdout",
          "text": [
            "4/4 [==============================] - 16s 1s/step - loss: 0.2643 - iou_score: 0.6258 - f1-score: 0.7300\n"
          ]
        },
        {
          "output_type": "execute_result",
          "data": {
            "text/plain": [
              "[0.2642505466938019, 0.6257609128952026, 0.7300031185150146]"
            ]
          },
          "metadata": {},
          "execution_count": 49
        }
      ]
    },
    {
      "cell_type": "code",
      "source": [
        "def get_predictions(model):\n",
        "    y_pred=model.predict(X_test)\n",
        "    y_pred_argmax=np.argmax(y_pred, axis=3)\n",
        "\n",
        "    return y_pred_argmax"
      ],
      "metadata": {
        "id": "O5LeIqoFn5Xm"
      },
      "execution_count": 50,
      "outputs": []
    },
    {
      "cell_type": "code",
      "source": [
        "y_pred_argmax = get_predictions(unet_resnet50)"
      ],
      "metadata": {
        "colab": {
          "base_uri": "https://localhost:8080/"
        },
        "id": "GjTCn0SSobHm",
        "outputId": "b4fed082-3649-4666-be68-e7ad1af5244b"
      },
      "execution_count": 51,
      "outputs": [
        {
          "output_type": "stream",
          "name": "stdout",
          "text": [
            "4/4 [==============================] - 2s 202ms/step\n"
          ]
        }
      ]
    },
    {
      "cell_type": "code",
      "source": [
        "#Using built in keras function\n",
        "from keras.metrics import MeanIoU"
      ],
      "metadata": {
        "id": "NBHeiGdMoiM-"
      },
      "execution_count": 52,
      "outputs": []
    },
    {
      "cell_type": "code",
      "source": [
        "IOU_keras = MeanIoU(num_classes=n_classes)\n",
        "IOU_keras.update_state(test_annots, y_pred_argmax)\n",
        "print(\"Mean IoU =\", IOU_keras.result().numpy())\n",
        "\n",
        "\n",
        "#To calculate I0U for each class...\n",
        "values = np.array(IOU_keras.get_weights()).reshape(n_classes, n_classes)\n",
        "print(values)"
      ],
      "metadata": {
        "colab": {
          "base_uri": "https://localhost:8080/"
        },
        "id": "wvueGTRnoI-P",
        "outputId": "ee05318a-bbbd-4850-d261-0925bdeed973"
      },
      "execution_count": 53,
      "outputs": [
        {
          "output_type": "stream",
          "name": "stdout",
          "text": [
            "Mean IoU = 0.634338\n",
            "[[5.926440e+05 2.858000e+03 9.000000e+00 0.000000e+00 0.000000e+00\n",
            "  1.427600e+04 0.000000e+00 0.000000e+00 2.000000e+00 0.000000e+00\n",
            "  0.000000e+00 2.506000e+03]\n",
            " [6.387000e+03 1.539821e+06 2.260000e+03 2.672000e+03 1.793300e+04\n",
            "  3.053200e+04 4.739000e+03 2.147300e+04 1.138500e+04 6.769000e+03\n",
            "  1.791000e+03 8.400300e+04]\n",
            " [1.600000e+01 1.817700e+04 4.282000e+03 5.800000e+01 6.270000e+02\n",
            "  7.542000e+03 3.400000e+01 4.832000e+03 7.400000e+01 2.310000e+02\n",
            "  1.700000e+01 9.000000e+02]\n",
            " [0.000000e+00 2.084000e+03 1.470000e+02 1.874494e+06 1.604500e+04\n",
            "  1.000000e+00 0.000000e+00 0.000000e+00 4.192000e+03 8.980000e+02\n",
            "  3.471000e+03 1.717000e+03]\n",
            " [0.000000e+00 1.407200e+04 5.700000e+01 1.552600e+04 5.424740e+05\n",
            "  1.000000e+00 0.000000e+00 2.200000e+01 8.120000e+02 9.470000e+02\n",
            "  5.930000e+02 2.658000e+03]\n",
            " [1.107300e+04 4.518000e+03 1.567000e+03 0.000000e+00 0.000000e+00\n",
            "  1.048446e+06 1.289000e+03 1.368900e+04 1.000000e+01 1.000000e+00\n",
            "  2.000000e+00 5.580000e+02]\n",
            " [2.100000e+01 1.974400e+04 1.243000e+03 0.000000e+00 0.000000e+00\n",
            "  9.258000e+03 2.829600e+04 4.500000e+01 8.000000e+00 0.000000e+00\n",
            "  0.000000e+00 6.380000e+02]\n",
            " [1.200000e+01 2.028200e+04 1.421000e+03 1.000000e+01 5.500000e+01\n",
            "  1.995900e+04 1.800000e+01 1.528050e+05 4.950000e+02 1.042000e+03\n",
            "  1.400000e+02 5.944000e+03]\n",
            " [1.000000e+00 9.900000e+02 7.000000e+00 3.719000e+03 4.320000e+02\n",
            "  8.000000e+00 3.590000e+02 2.760000e+02 1.005630e+05 1.230000e+02\n",
            "  2.940000e+02 8.045000e+03]\n",
            " [0.000000e+00 4.554000e+03 4.040000e+02 7.060000e+02 5.530000e+02\n",
            "  5.000000e+00 7.100000e+01 1.504000e+03 7.560000e+02 2.982000e+04\n",
            "  1.377000e+03 3.316000e+03]\n",
            " [2.000000e+00 3.780000e+03 9.850000e+02 1.524700e+04 7.360000e+02\n",
            "  2.400000e+01 4.000000e+01 1.280000e+02 1.432400e+04 1.121000e+04\n",
            "  9.380900e+04 6.679000e+03]\n",
            " [3.493000e+03 1.362100e+04 4.570000e+02 4.261000e+03 2.888000e+03\n",
            "  7.983000e+03 9.500000e+01 1.576500e+04 1.679000e+03 2.297000e+03\n",
            "  8.720000e+02 5.922800e+04]]\n"
          ]
        }
      ]
    },
    {
      "cell_type": "code",
      "source": [
        "def get_classes_iou(values, n_classes):\n",
        "    class_ious = {}\n",
        "    for i in range(n_classes):\n",
        "        m = values[i,i]\n",
        "        n = values[i,i]\n",
        "        for j in range(n_classes):\n",
        "            if i != j:\n",
        "                n += values[i,j]\n",
        "                n += values[j,i]\n",
        "\n",
        "        class_ious[i] = m/n\n",
        "\n",
        "    for k, v in class_ious.items():\n",
        "        print(f\"IoU for class {k} is: {v}\")"
      ],
      "metadata": {
        "id": "tgUAwGX2o7HX"
      },
      "execution_count": 54,
      "outputs": []
    },
    {
      "cell_type": "code",
      "source": [
        "get_classes_iou(values, n_classes)"
      ],
      "metadata": {
        "colab": {
          "base_uri": "https://localhost:8080/"
        },
        "id": "7adyRgS5nQgN",
        "outputId": "96237b8c-ed38-4145-b78a-6f0383fee8d6"
      },
      "execution_count": 55,
      "outputs": [
        {
          "output_type": "stream",
          "name": "stdout",
          "text": [
            "IoU for class 0 is: 0.9358029365539551\n",
            "IoU for class 1 is: 0.8393933773040771\n",
            "IoU for class 2 is: 0.09442741423845291\n",
            "IoU for class 3 is: 0.963627278804779\n",
            "IoU for class 4 is: 0.8800238966941833\n",
            "IoU for class 5 is: 0.8955397605895996\n",
            "IoU for class 6 is: 0.42939087748527527\n",
            "IoU for class 7 is: 0.5878992080688477\n",
            "IoU for class 8 is: 0.6769457459449768\n",
            "IoU for class 9 is: 0.4478553533554077\n",
            "IoU for class 10 is: 0.6031918525695801\n",
            "IoU for class 11 is: 0.2579582929611206\n"
          ]
        }
      ]
    },
    {
      "cell_type": "code",
      "source": [
        "import random"
      ],
      "metadata": {
        "id": "ftFm7WjNoNau"
      },
      "execution_count": 56,
      "outputs": []
    },
    {
      "cell_type": "code",
      "source": [
        "def show_predictions(model, X, annots, class_names):\n",
        "    test_img_number = random.randint(0, len(X))\n",
        "    test_img = X[test_img_number]\n",
        "    ground_truth = annots[test_img_number]\n",
        "    test_img_input = np.expand_dims(test_img, 0)\n",
        "    prediction = model.predict(test_img_input)\n",
        "    predicted_img = np.argmax(prediction, axis=3)[0, :, :]\n",
        "\n",
        "    plt.figure(figsize=(14, 8))\n",
        "    plt.subplot(231)\n",
        "    plt.title('Testing Image')\n",
        "    plt.imshow(test_img[:, :, 0], cmap='gray')\n",
        "\n",
        "    plt.subplot(232)\n",
        "    plt.title('Testing Label')\n",
        "    plt.imshow(ground_truth, cmap='jet')\n",
        "    add_colorbar(plt.imshow(ground_truth, cmap='jet'), class_names, ax=plt.gca())\n",
        "\n",
        "    plt.subplot(233)\n",
        "    plt.title('Prediction on test image')\n",
        "    plt.imshow(predicted_img, cmap='jet')\n",
        "    add_colorbar(plt.imshow(predicted_img, cmap='jet'), class_names, ax=plt.gca())\n",
        "\n",
        "    plt.show()\n",
        "\n",
        "def add_colorbar(mappable, class_names, ax=None):\n",
        "    from mpl_toolkits.axes_grid1 import make_axes_locatable\n",
        "\n",
        "    if ax is None:\n",
        "        ax = plt.gca()\n",
        "    divider = make_axes_locatable(ax)\n",
        "    cax = divider.append_axes(\"right\", size=\"5%\", pad=0.05)\n",
        "    cbar = plt.colorbar(mappable, cax=cax, ticks=np.arange(len(class_names)))\n",
        "    cbar.set_ticklabels(class_names)"
      ],
      "metadata": {
        "id": "yPxAq8qXrGQk"
      },
      "execution_count": 57,
      "outputs": []
    },
    {
      "cell_type": "code",
      "source": [
        "cityscapes_classes = [\n",
        "    '0', '1', '2', '3', '4', '5', '6', '7', '8', '9', '10', '11'\n",
        "]"
      ],
      "metadata": {
        "id": "0ZGSUwp6rKZb"
      },
      "execution_count": 58,
      "outputs": []
    },
    {
      "cell_type": "code",
      "source": [
        "show_predictions(unet_resnet50, X_test, test_annots, cityscapes_classes)"
      ],
      "metadata": {
        "colab": {
          "base_uri": "https://localhost:8080/",
          "height": 380
        },
        "id": "uR4qpzpToLDm",
        "outputId": "7427e3b5-aacd-408c-a762-937ca09ff54d"
      },
      "execution_count": 62,
      "outputs": [
        {
          "output_type": "stream",
          "name": "stdout",
          "text": [
            "1/1 [==============================] - 0s 24ms/step\n"
          ]
        },
        {
          "output_type": "display_data",
          "data": {
            "text/plain": [
              "<Figure size 1400x800 with 5 Axes>"
            ],
            "image/png": "[encoded data removed]"
          },
          "metadata": {}
        }
      ]
    },
    {
      "cell_type": "code",
      "source": [
        "show_predictions(unet_resnet50, X_train, train_annots, cityscapes_classes)"
      ],
      "metadata": {
        "colab": {
          "base_uri": "https://localhost:8080/",
          "height": 380
        },
        "id": "gTdDnZ2Ju4pt",
        "outputId": "ca395b7b-251c-4a32-8bc4-5d8adc0b939a"
      },
      "execution_count": 60,
      "outputs": [
        {
          "output_type": "stream",
          "name": "stdout",
          "text": [
            "1/1 [==============================] - 0s 25ms/step\n"
          ]
        },
        {
          "output_type": "display_data",
          "data": {
            "text/plain": [
              "<Figure size 1400x800 with 5 Axes>"
            ],
            "image/png": "[encoded data removed]"
          },
          "metadata": {}
        }
      ]
    },
    {
      "cell_type": "code",
      "source": [
        "def create_video_from_images(model, X_test, output_video_path):\n",
        "    # Get the dimensions from the first image in X_test\n",
        "    height, width, _ = X_test[0].shape\n",
        "\n",
        "    # Create a VideoWriter object to write the video\n",
        "    fourcc = cv2.VideoWriter_fourcc(*'mp4v')  # You can change the codec as needed\n",
        "    out = cv2.VideoWriter(output_video_path, fourcc, 5.0, (width, height))\n",
        "\n",
        "    # Process each test image in X_test and write to the video\n",
        "    for frame in X_test:\n",
        "        # Preprocess the frame (resize, normalize, etc.) to match the input requirements of your model\n",
        "        original_frame = frame * 255\n",
        "\n",
        "        # Perform prediction using the model\n",
        "        input_data = np.expand_dims(frame, axis=0)\n",
        "        prediction = model.predict(input_data)\n",
        "        predicted_mask = np.argmax(prediction, axis=3)[0]\n",
        "\n",
        "        # Convert the predicted mask to a color image\n",
        "        colored_mask = cv2.applyColorMap((predicted_mask * 21).astype(np.uint8), cv2.COLORMAP_JET)\n",
        "\n",
        "        # Ensure frame and colored_mask have the same data type\n",
        "        original_frame = original_frame.astype(colored_mask.dtype)\n",
        "\n",
        "        # Overlay the colored mask on the original frame\n",
        "        result_frame = cv2.addWeighted(original_frame, 0.7, colored_mask, 0.3, 0)\n",
        "\n",
        "        # Write the frame to the video\n",
        "        out.write(result_frame)\n",
        "\n",
        "    # Release the VideoWriter object\n",
        "    out.release()"
      ],
      "metadata": {
        "id": "RxTQYehz4ou_"
      },
      "execution_count": 61,
      "outputs": []
    },
    {
      "cell_type": "code",
      "source": [
        "create_video_from_images(unet_resnet50, X_test, '/content/test_video.mp4')"
      ],
      "metadata": {
        "colab": {
          "base_uri": "https://localhost:8080/"
        },
        "id": "IpX-0-d058CA",
        "outputId": "9e22a01d-56c9-4d2d-c373-31743d34a207"
      },
      "execution_count": null,
      "outputs": [
        {
          "output_type": "stream",
          "name": "stdout",
          "text": [
            "1/1 [==============================] - 0s 26ms/step\n",
            "1/1 [==============================] - 0s 24ms/step\n",
            "1/1 [==============================] - 0s 27ms/step\n",
            "1/1 [==============================] - 0s 26ms/step\n",
            "1/1 [==============================] - 0s 27ms/step\n",
            "1/1 [==============================] - 0s 26ms/step\n",
            "1/1 [==============================] - 0s 25ms/step\n",
            "1/1 [==============================] - 0s 33ms/step\n",
            "1/1 [==============================] - 0s 29ms/step\n",
            "1/1 [==============================] - 0s 34ms/step\n",
            "1/1 [==============================] - 0s 28ms/step\n",
            "1/1 [==============================] - 0s 25ms/step\n",
            "1/1 [==============================] - 0s 26ms/step\n",
            "1/1 [==============================] - 0s 58ms/step\n",
            "1/1 [==============================] - 0s 45ms/step\n",
            "1/1 [==============================] - 0s 64ms/step\n",
            "1/1 [==============================] - 0s 60ms/step\n",
            "1/1 [==============================] - 0s 62ms/step\n",
            "1/1 [==============================] - 0s 48ms/step\n",
            "1/1 [==============================] - 0s 55ms/step\n",
            "1/1 [==============================] - 0s 48ms/step\n",
            "1/1 [==============================] - 0s 74ms/step\n",
            "1/1 [==============================] - 0s 44ms/step\n",
            "1/1 [==============================] - 0s 51ms/step\n",
            "1/1 [==============================] - 0s 83ms/step\n",
            "1/1 [==============================] - 0s 54ms/step\n",
            "1/1 [==============================] - 0s 85ms/step\n",
            "1/1 [==============================] - 0s 55ms/step\n",
            "1/1 [==============================] - 0s 46ms/step\n",
            "1/1 [==============================] - 0s 51ms/step\n",
            "1/1 [==============================] - 0s 51ms/step\n",
            "1/1 [==============================] - 0s 61ms/step\n",
            "1/1 [==============================] - 0s 57ms/step\n",
            "1/1 [==============================] - 0s 50ms/step\n",
            "1/1 [==============================] - 0s 49ms/step\n",
            "1/1 [==============================] - 0s 66ms/step\n",
            "1/1 [==============================] - 0s 52ms/step\n",
            "1/1 [==============================] - 0s 97ms/step\n",
            "1/1 [==============================] - 0s 117ms/step\n",
            "1/1 [==============================] - 0s 196ms/step\n",
            "1/1 [==============================] - 0s 148ms/step\n",
            "1/1 [==============================] - 0s 217ms/step\n",
            "1/1 [==============================] - 0s 110ms/step\n",
            "1/1 [==============================] - 0s 80ms/step\n",
            "1/1 [==============================] - 0s 120ms/step\n",
            "1/1 [==============================] - 0s 142ms/step\n",
            "1/1 [==============================] - 0s 179ms/step\n",
            "1/1 [==============================] - 0s 150ms/step\n",
            "1/1 [==============================] - 0s 133ms/step\n",
            "1/1 [==============================] - 0s 97ms/step\n",
            "1/1 [==============================] - 0s 98ms/step\n",
            "1/1 [==============================] - 0s 134ms/step\n",
            "1/1 [==============================] - 0s 103ms/step\n",
            "1/1 [==============================] - 0s 50ms/step\n",
            "1/1 [==============================] - 0s 51ms/step\n",
            "1/1 [==============================] - 0s 61ms/step\n",
            "1/1 [==============================] - 0s 52ms/step\n",
            "1/1 [==============================] - 0s 54ms/step\n",
            "1/1 [==============================] - 0s 60ms/step\n",
            "1/1 [==============================] - 0s 61ms/step\n",
            "1/1 [==============================] - 0s 67ms/step\n",
            "1/1 [==============================] - 0s 45ms/step\n",
            "1/1 [==============================] - 0s 61ms/step\n",
            "1/1 [==============================] - 0s 65ms/step\n",
            "1/1 [==============================] - 0s 28ms/step\n",
            "1/1 [==============================] - 0s 27ms/step\n",
            "1/1 [==============================] - 0s 25ms/step\n",
            "1/1 [==============================] - 0s 27ms/step\n",
            "1/1 [==============================] - 0s 26ms/step\n",
            "1/1 [==============================] - 0s 24ms/step\n",
            "1/1 [==============================] - 0s 25ms/step\n",
            "1/1 [==============================] - 0s 25ms/step\n",
            "1/1 [==============================] - 0s 26ms/step\n",
            "1/1 [==============================] - 0s 27ms/step\n",
            "1/1 [==============================] - 0s 26ms/step\n",
            "1/1 [==============================] - 0s 25ms/step\n",
            "1/1 [==============================] - 0s 25ms/step\n",
            "1/1 [==============================] - 0s 23ms/step\n",
            "1/1 [==============================] - 0s 22ms/step\n",
            "1/1 [==============================] - 0s 36ms/step\n",
            "1/1 [==============================] - 0s 25ms/step\n",
            "1/1 [==============================] - 0s 25ms/step\n",
            "1/1 [==============================] - 0s 26ms/step\n",
            "1/1 [==============================] - 0s 28ms/step\n",
            "1/1 [==============================] - 0s 27ms/step\n",
            "1/1 [==============================] - 0s 34ms/step\n",
            "1/1 [==============================] - 0s 26ms/step\n",
            "1/1 [==============================] - 0s 29ms/step\n",
            "1/1 [==============================] - 0s 27ms/step\n",
            "1/1 [==============================] - 0s 26ms/step\n",
            "1/1 [==============================] - 0s 28ms/step\n",
            "1/1 [==============================] - 0s 34ms/step\n",
            "1/1 [==============================] - 0s 25ms/step\n",
            "1/1 [==============================] - 0s 27ms/step\n",
            "1/1 [==============================] - 0s 25ms/step\n",
            "1/1 [==============================] - 0s 24ms/step\n",
            "1/1 [==============================] - 0s 26ms/step\n",
            "1/1 [==============================] - 0s 26ms/step\n",
            "1/1 [==============================] - 0s 26ms/step\n",
            "1/1 [==============================] - 0s 55ms/step\n",
            "1/1 [==============================] - 0s 63ms/step\n"
          ]
        }
      ]
    },
    {
      "cell_type": "code",
      "source": [],
      "metadata": {
        "id": "g7rnE4zR6dxm"
      },
      "execution_count": null,
      "outputs": []
    }
  ]
}