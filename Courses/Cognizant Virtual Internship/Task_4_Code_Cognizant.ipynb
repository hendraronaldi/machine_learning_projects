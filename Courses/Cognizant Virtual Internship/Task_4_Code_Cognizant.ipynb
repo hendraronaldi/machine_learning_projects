{
  "nbformat": 4,
  "nbformat_minor": 0,
  "metadata": {
    "colab": {
      "provenance": []
    },
    "kernelspec": {
      "name": "python3",
      "display_name": "Python 3"
    },
    "language_info": {
      "name": "python"
    }
  },
  "cells": [
    {
      "cell_type": "code",
      "execution_count": null,
      "metadata": {
        "id": "kKSGUqqjrQ7V"
      },
      "outputs": [],
      "source": [
        "import pandas as pd\n",
        "from sklearn.ensemble import RandomForestRegressor\n",
        "from sklearn.model_selection import train_test_split\n",
        "from sklearn.metrics import mean_absolute_error\n",
        "from sklearn.preprocessing import StandardScaler\n",
        "\n",
        "# global variables\n",
        "SPLIT = 0.75\n",
        "K = 10\n",
        "DATA_PATH = 'merged_stock_levels.csv'\n",
        "TARGET = 'estimated_stock_pct'\n",
        "\n",
        "# load_dataset function to load csv dataset in pandas dataframe format\n",
        "def load_dataset(path: str='path/to/csv'):\n",
        "    df = pd.read_csv(path)\n",
        "    df.drop(columns=[\"Unnamed: 0\"], inplace=True, errors='ignore')\n",
        "    return df\n",
        "\n",
        "# extract_feature_target to get features (X) and target (y) from dataframe\n",
        "def extract_feature_target(df: pd.DataFrame = None, target: str = \"estimated_stock_pct\"):\n",
        "    if target not in df.columns:\n",
        "        raise Exception(f\"Target: {target} is not present in the data\")\n",
        "\n",
        "    X = df.drop(columns=[target])\n",
        "    y = df[target]\n",
        "    return X, y\n",
        "\n",
        "# model_training_cross_validation\n",
        "def model_training_cross_validation(X, y, split: 0.75, K: 10):\n",
        "    maes = []\n",
        "\n",
        "    for fold in range(0, K):\n",
        "\n",
        "        # Instantiate algorithm\n",
        "        model = RandomForestRegressor()\n",
        "        scaler = StandardScaler()\n",
        "\n",
        "        # Create training and test samples\n",
        "        X_train, X_test, y_train, y_test = train_test_split(X, y, train_size=split)\n",
        "\n",
        "        # Scale X data, we scale the data because it helps the algorithm to converge\n",
        "        # and helps the algorithm to not be greedy with large values\n",
        "        scaler.fit(X_train)\n",
        "        X_train = scaler.transform(X_train)\n",
        "        X_test = scaler.transform(X_test)\n",
        "\n",
        "        # Train model\n",
        "        trained_model = model.fit(X_train, y_train)\n",
        "\n",
        "        # Generate predictions on test sample\n",
        "        y_pred = trained_model.predict(X_test)\n",
        "\n",
        "        # Compute accuracy, using mean absolute error\n",
        "        mae = mean_absolute_error(y_true=y_test, y_pred=y_pred)\n",
        "        maes.append(mae)\n",
        "        print(f\"Fold {fold + 1}: MAE = {mae:.3f}\")\n",
        "\n",
        "    print(f\"Average MAE: {(sum(maes) / len(maes)):.2f}\")"
      ]
    },
    {
      "cell_type": "code",
      "source": [
        "SPLIT = 0.75\n",
        "K = 10\n",
        "DATA_PATH = 'merged_stock_levels.csv'\n",
        "TARGET = 'estimated_stock_pct'\n",
        "\n",
        "df = load_dataset(DATA_PATH)\n",
        "X, y = extract_feature_target(df, TARGET)\n",
        "model_training_cross_validation(X, y, SPLIT, K)"
      ],
      "metadata": {
        "colab": {
          "base_uri": "https://localhost:8080/"
        },
        "id": "SVLKTegkrjdA",
        "outputId": "a6814c87-7623-4aed-cdea-410eb8a60837"
      },
      "execution_count": null,
      "outputs": [
        {
          "output_type": "stream",
          "name": "stdout",
          "text": [
            "Fold 1: MAE = 0.238\n",
            "Fold 2: MAE = 0.237\n",
            "Fold 3: MAE = 0.238\n",
            "Fold 4: MAE = 0.237\n",
            "Fold 5: MAE = 0.231\n",
            "Fold 6: MAE = 0.235\n",
            "Fold 7: MAE = 0.242\n",
            "Fold 8: MAE = 0.242\n",
            "Fold 9: MAE = 0.239\n",
            "Fold 10: MAE = 0.242\n",
            "Average MAE: 0.24\n"
          ]
        }
      ]
    },
    {
      "cell_type": "code",
      "source": [],
      "metadata": {
        "id": "BMM_rvnhrrdm"
      },
      "execution_count": null,
      "outputs": []
    }
  ]
}